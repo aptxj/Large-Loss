{
 "cells": [
  {
   "cell_type": "code",
   "execution_count": 1,
   "metadata": {
    "collapsed": false,
    "scrolled": false
   },
   "outputs": [
    {
     "name": "stderr",
     "output_type": "stream",
     "text": [
      "/Users/admin/anaconda/lib/python3.6/site-packages/matplotlib/__init__.py:913: UserWarning: axes.color_cycle is deprecated and replaced with axes.prop_cycle; please use the latter.\n",
      "  warnings.warn(self.msg_depr % (key, alt_key))\n"
     ]
    }
   ],
   "source": [
    "import pandas as pd"
   ]
  },
  {
   "cell_type": "markdown",
   "metadata": {},
   "source": [
    "# size of data\n",
    "\n",
    "There are 518077 records and 76 variables(including target variable \"EV_LARGE\"\n",
    "\n",
    "Column 41 has mixed data type.\n"
   ]
  },
  {
   "cell_type": "code",
   "execution_count": 2,
   "metadata": {
    "collapsed": false
   },
   "outputs": [
    {
     "data": {
      "text/plain": [
       "(518077, 76)"
      ]
     },
     "execution_count": 2,
     "metadata": {},
     "output_type": "execute_result"
    }
   ],
   "source": [
    "# reading csv claimdata_utf8\n",
    "lloss = pd.read_csv('/Users/admin/Desktop/AXAproject/claimdata_utf8.csv', low_memory=False)\n",
    "lloss.shape"
   ]
  },
  {
   "cell_type": "markdown",
   "metadata": {},
   "source": [
    "# Brief review of dataset"
   ]
  },
  {
   "cell_type": "code",
   "execution_count": 3,
   "metadata": {
    "collapsed": false,
    "scrolled": true
   },
   "outputs": [
    {
     "data": {
      "text/html": [
       "<div>\n",
       "<table border=\"1\" class=\"dataframe\">\n",
       "  <thead>\n",
       "    <tr style=\"text-align: right;\">\n",
       "      <th></th>\n",
       "      <th>Event_Number</th>\n",
       "      <th>Claim_Number</th>\n",
       "      <th>Event_Occurrence_Month</th>\n",
       "      <th>Inception_Month</th>\n",
       "      <th>Issued_Date</th>\n",
       "      <th>Issued_Time</th>\n",
       "      <th>Coverage1</th>\n",
       "      <th>Coverage2</th>\n",
       "      <th>PI_Class</th>\n",
       "      <th>IN_OUTPATIENT</th>\n",
       "      <th>...</th>\n",
       "      <th>Car_Age</th>\n",
       "      <th>Previous_Accidents</th>\n",
       "      <th>Insured_Sex</th>\n",
       "      <th>Insured_Age</th>\n",
       "      <th>Insured_Age_Range</th>\n",
       "      <th>Region</th>\n",
       "      <th>Prefecture</th>\n",
       "      <th>Prev_Insurer_Category</th>\n",
       "      <th>Original_Channel</th>\n",
       "      <th>Renewal_Times</th>\n",
       "    </tr>\n",
       "  </thead>\n",
       "  <tbody>\n",
       "    <tr>\n",
       "      <th>0</th>\n",
       "      <td>7541881</td>\n",
       "      <td>NaN</td>\n",
       "      <td>2011/1/1</td>\n",
       "      <td>2010/4/1</td>\n",
       "      <td>2010/4/24</td>\n",
       "      <td>14:23</td>\n",
       "      <td>NaN</td>\n",
       "      <td>NaN</td>\n",
       "      <td>NaN</td>\n",
       "      <td>NaN</td>\n",
       "      <td>...</td>\n",
       "      <td>12</td>\n",
       "      <td>0</td>\n",
       "      <td>2</td>\n",
       "      <td>36</td>\n",
       "      <td>30-39</td>\n",
       "      <td>(02) 東北</td>\n",
       "      <td>福島県</td>\n",
       "      <td>(02) Non Direct</td>\n",
       "      <td>(01) Phone</td>\n",
       "      <td>7</td>\n",
       "    </tr>\n",
       "    <tr>\n",
       "      <th>1</th>\n",
       "      <td>7541914</td>\n",
       "      <td>8981138.0</td>\n",
       "      <td>2011/1/1</td>\n",
       "      <td>2010/12/1</td>\n",
       "      <td>2010/11/11</td>\n",
       "      <td>16:37</td>\n",
       "      <td>6.0</td>\n",
       "      <td>6.0</td>\n",
       "      <td>3.0</td>\n",
       "      <td>1.0</td>\n",
       "      <td>...</td>\n",
       "      <td>0</td>\n",
       "      <td>0</td>\n",
       "      <td>1</td>\n",
       "      <td>61</td>\n",
       "      <td>60-</td>\n",
       "      <td>(07) 九州</td>\n",
       "      <td>福岡県</td>\n",
       "      <td>(02) Non Direct</td>\n",
       "      <td>(01) Phone</td>\n",
       "      <td>7</td>\n",
       "    </tr>\n",
       "    <tr>\n",
       "      <th>2</th>\n",
       "      <td>7541914</td>\n",
       "      <td>8981144.0</td>\n",
       "      <td>2011/1/1</td>\n",
       "      <td>2010/12/1</td>\n",
       "      <td>2010/11/11</td>\n",
       "      <td>16:37</td>\n",
       "      <td>3.0</td>\n",
       "      <td>3.0</td>\n",
       "      <td>3.0</td>\n",
       "      <td>1.0</td>\n",
       "      <td>...</td>\n",
       "      <td>0</td>\n",
       "      <td>0</td>\n",
       "      <td>1</td>\n",
       "      <td>61</td>\n",
       "      <td>60-</td>\n",
       "      <td>(07) 九州</td>\n",
       "      <td>福岡県</td>\n",
       "      <td>(02) Non Direct</td>\n",
       "      <td>(01) Phone</td>\n",
       "      <td>7</td>\n",
       "    </tr>\n",
       "    <tr>\n",
       "      <th>3</th>\n",
       "      <td>7541936</td>\n",
       "      <td>8960750.0</td>\n",
       "      <td>2011/1/1</td>\n",
       "      <td>2010/2/1</td>\n",
       "      <td>2010/2/8</td>\n",
       "      <td>14:32</td>\n",
       "      <td>2.0</td>\n",
       "      <td>2.0</td>\n",
       "      <td>NaN</td>\n",
       "      <td>NaN</td>\n",
       "      <td>...</td>\n",
       "      <td>13</td>\n",
       "      <td>0</td>\n",
       "      <td>1</td>\n",
       "      <td>48</td>\n",
       "      <td>40-49</td>\n",
       "      <td>(07) 九州</td>\n",
       "      <td>熊本県</td>\n",
       "      <td>(99) New</td>\n",
       "      <td>(01) Phone</td>\n",
       "      <td>1</td>\n",
       "    </tr>\n",
       "    <tr>\n",
       "      <th>4</th>\n",
       "      <td>7541986</td>\n",
       "      <td>8960833.0</td>\n",
       "      <td>2011/1/1</td>\n",
       "      <td>2010/6/1</td>\n",
       "      <td>2010/6/4</td>\n",
       "      <td>14:26</td>\n",
       "      <td>2.0</td>\n",
       "      <td>2.0</td>\n",
       "      <td>NaN</td>\n",
       "      <td>NaN</td>\n",
       "      <td>...</td>\n",
       "      <td>7</td>\n",
       "      <td>0</td>\n",
       "      <td>1</td>\n",
       "      <td>67</td>\n",
       "      <td>60-</td>\n",
       "      <td>(03) 関東</td>\n",
       "      <td>茨城県</td>\n",
       "      <td>(02) Non Direct</td>\n",
       "      <td>(03) Broker</td>\n",
       "      <td>1</td>\n",
       "    </tr>\n",
       "  </tbody>\n",
       "</table>\n",
       "<p>5 rows × 76 columns</p>\n",
       "</div>"
      ],
      "text/plain": [
       "   Event_Number  Claim_Number Event_Occurrence_Month Inception_Month  \\\n",
       "0       7541881           NaN               2011/1/1        2010/4/1   \n",
       "1       7541914     8981138.0               2011/1/1       2010/12/1   \n",
       "2       7541914     8981144.0               2011/1/1       2010/12/1   \n",
       "3       7541936     8960750.0               2011/1/1        2010/2/1   \n",
       "4       7541986     8960833.0               2011/1/1        2010/6/1   \n",
       "\n",
       "  Issued_Date Issued_Time  Coverage1  Coverage2  PI_Class  IN_OUTPATIENT  \\\n",
       "0   2010/4/24       14:23        NaN        NaN       NaN            NaN   \n",
       "1  2010/11/11       16:37        6.0        6.0       3.0            1.0   \n",
       "2  2010/11/11       16:37        3.0        3.0       3.0            1.0   \n",
       "3    2010/2/8       14:32        2.0        2.0       NaN            NaN   \n",
       "4    2010/6/4       14:26        2.0        2.0       NaN            NaN   \n",
       "\n",
       "       ...        Car_Age Previous_Accidents Insured_Sex  Insured_Age  \\\n",
       "0      ...             12                  0           2           36   \n",
       "1      ...              0                  0           1           61   \n",
       "2      ...              0                  0           1           61   \n",
       "3      ...             13                  0           1           48   \n",
       "4      ...              7                  0           1           67   \n",
       "\n",
       "  Insured_Age_Range   Region  Prefecture  Prev_Insurer_Category  \\\n",
       "0             30-39  (02) 東北         福島県        (02) Non Direct   \n",
       "1               60-  (07) 九州         福岡県        (02) Non Direct   \n",
       "2               60-  (07) 九州         福岡県        (02) Non Direct   \n",
       "3             40-49  (07) 九州         熊本県               (99) New   \n",
       "4               60-  (03) 関東         茨城県        (02) Non Direct   \n",
       "\n",
       "   Original_Channel  Renewal_Times  \n",
       "0        (01) Phone              7  \n",
       "1        (01) Phone              7  \n",
       "2        (01) Phone              7  \n",
       "3        (01) Phone              1  \n",
       "4       (03) Broker              1  \n",
       "\n",
       "[5 rows x 76 columns]"
      ]
     },
     "execution_count": 3,
     "metadata": {},
     "output_type": "execute_result"
    }
   ],
   "source": [
    "lloss.head()"
   ]
  },
  {
   "cell_type": "markdown",
   "metadata": {},
   "source": [
    "#we found a few variables didn't appear on this dataset but were described in the item list\n",
    "- \"Paid\"\n",
    "- \"OS\"\n",
    "- \"incurred_Band\"\n",
    "- \"Patient_Class\"\n",
    "- \"Bonus_Malus_Band\"\n",
    "- \"Insured_Age_Band\"\n",
    "- \"Prev_Insured\"\n",
    "\n",
    "#we found some variables did appear on the dataset but weren't included in the item list\n",
    "- \"IN_OUTPATIENT\"\n",
    "- \"Bonus_Malus_Range\"\n",
    "- \"Insured_Age_Range\""
   ]
  },
  {
   "cell_type": "code",
   "execution_count": 4,
   "metadata": {
    "collapsed": false
   },
   "outputs": [
    {
     "data": {
      "text/plain": [
       "Index(['Event_Number', 'Claim_Number', 'Event_Occurrence_Month',\n",
       "       'Inception_Month', 'Issued_Date', 'Issued_Time', 'Coverage1',\n",
       "       'Coverage2', 'PI_Class', 'IN_OUTPATIENT', 'Incurred', 'EV_LARGE',\n",
       "       'Driver', 'Contract_Status', 'Reason', 'Effective_Date',\n",
       "       'Annual_Premium', 'Annual_Premium_BIL', 'Annual_Premium_PDL',\n",
       "       'Annual_Premium_PPA', 'Annual_Premium_PI', 'Annual_Premium_ODPE',\n",
       "       'Annual_Premium_OD', 'Annual_Premium_PE', 'Annual_Premium_FB',\n",
       "       'Annual_Premium_FBB', 'Annual_Premium_FBP', 'Annual_Premium_LE',\n",
       "       'Annual_Premium_AXAP', 'Annual_Premium_PSE', 'Annual_Premium_PPD',\n",
       "       'Annual_Premium_PL', 'Annual_Premium_HK', 'Annual_Premium_PET',\n",
       "       'Annual_Premium_EQ', 'Payment_Method', 'Payment_Type1',\n",
       "       'Internet_Discount', 'OD_Type', 'PDL_Limit', 'OD_Coverage', 'Deduct',\n",
       "       'PPA_Coverage', 'PPA_Limit', 'PI_Coverage', 'PI_Limit', 'PI_Type',\n",
       "       'FB_Coverage', 'LE_Coverage', 'PDL_Special_Coverage', 'Anshin_Plus',\n",
       "       'Anshin_Plus_Ladies', 'Anshin_Plus_Pet', 'Anshin_Plus_Family',\n",
       "       'Automatic_Renewal', 'Age_Restriction', 'Family_Restriction',\n",
       "       'EQ_Coverage', 'Tariff', 'Bonus_Malus', 'Bonus_Malus_Range',\n",
       "       'License_Color', 'Mileage', 'Usage', 'Car_Type', 'Car_Name', 'Car_Age',\n",
       "       'Previous_Accidents', 'Insured_Sex', 'Insured_Age', 'Insured_Age_Range',\n",
       "       'Region', 'Prefecture', 'Prev_Insurer_Category', 'Original_Channel',\n",
       "       'Renewal_Times'],\n",
       "      dtype='object')"
      ]
     },
     "execution_count": 4,
     "metadata": {},
     "output_type": "execute_result"
    }
   ],
   "source": [
    "lloss.columns"
   ]
  },
  {
   "cell_type": "code",
   "execution_count": 5,
   "metadata": {
    "collapsed": false
   },
   "outputs": [
    {
     "data": {
      "text/html": [
       "<div>\n",
       "<table border=\"1\" class=\"dataframe\">\n",
       "  <thead>\n",
       "    <tr style=\"text-align: right;\">\n",
       "      <th></th>\n",
       "      <th>Event_Number</th>\n",
       "      <th>Claim_Number</th>\n",
       "      <th>Coverage1</th>\n",
       "      <th>Coverage2</th>\n",
       "      <th>PI_Class</th>\n",
       "      <th>IN_OUTPATIENT</th>\n",
       "      <th>Incurred</th>\n",
       "      <th>Contract_Status</th>\n",
       "      <th>Annual_Premium</th>\n",
       "      <th>Annual_Premium_BIL</th>\n",
       "      <th>...</th>\n",
       "      <th>EQ_Coverage</th>\n",
       "      <th>License_Color</th>\n",
       "      <th>Mileage</th>\n",
       "      <th>Usage</th>\n",
       "      <th>Car_Type</th>\n",
       "      <th>Car_Age</th>\n",
       "      <th>Previous_Accidents</th>\n",
       "      <th>Insured_Sex</th>\n",
       "      <th>Insured_Age</th>\n",
       "      <th>Renewal_Times</th>\n",
       "    </tr>\n",
       "  </thead>\n",
       "  <tbody>\n",
       "    <tr>\n",
       "      <th>count</th>\n",
       "      <td>5.180770e+05</td>\n",
       "      <td>4.621880e+05</td>\n",
       "      <td>462188.000000</td>\n",
       "      <td>462188.000000</td>\n",
       "      <td>95185.000000</td>\n",
       "      <td>74812.000000</td>\n",
       "      <td>5.180770e+05</td>\n",
       "      <td>517770.000000</td>\n",
       "      <td>518077.000000</td>\n",
       "      <td>518077.000000</td>\n",
       "      <td>...</td>\n",
       "      <td>518077.000000</td>\n",
       "      <td>518077.000000</td>\n",
       "      <td>518077.000000</td>\n",
       "      <td>518077.000000</td>\n",
       "      <td>518077.000000</td>\n",
       "      <td>518077.000000</td>\n",
       "      <td>518077.000000</td>\n",
       "      <td>518077.000000</td>\n",
       "      <td>518077.000000</td>\n",
       "      <td>518077.000000</td>\n",
       "    </tr>\n",
       "    <tr>\n",
       "      <th>mean</th>\n",
       "      <td>9.720327e+06</td>\n",
       "      <td>1.171118e+07</td>\n",
       "      <td>3.116505</td>\n",
       "      <td>3.684801</td>\n",
       "      <td>2.925892</td>\n",
       "      <td>2.326940</td>\n",
       "      <td>1.653272e+05</td>\n",
       "      <td>8.630765</td>\n",
       "      <td>56748.640221</td>\n",
       "      <td>9884.482295</td>\n",
       "      <td>...</td>\n",
       "      <td>0.013085</td>\n",
       "      <td>2.566518</td>\n",
       "      <td>1.596533</td>\n",
       "      <td>2.248594</td>\n",
       "      <td>1.967113</td>\n",
       "      <td>5.904676</td>\n",
       "      <td>0.078519</td>\n",
       "      <td>1.416633</td>\n",
       "      <td>45.668277</td>\n",
       "      <td>3.290046</td>\n",
       "    </tr>\n",
       "    <tr>\n",
       "      <th>std</th>\n",
       "      <td>1.248416e+06</td>\n",
       "      <td>1.555914e+06</td>\n",
       "      <td>1.571757</td>\n",
       "      <td>2.453307</td>\n",
       "      <td>0.318921</td>\n",
       "      <td>1.210362</td>\n",
       "      <td>9.215794e+05</td>\n",
       "      <td>3.952935</td>\n",
       "      <td>32042.557641</td>\n",
       "      <td>6030.328908</td>\n",
       "      <td>...</td>\n",
       "      <td>0.113639</td>\n",
       "      <td>0.524390</td>\n",
       "      <td>0.684723</td>\n",
       "      <td>0.468868</td>\n",
       "      <td>0.844692</td>\n",
       "      <td>4.347452</td>\n",
       "      <td>0.268987</td>\n",
       "      <td>0.493001</td>\n",
       "      <td>14.557836</td>\n",
       "      <td>3.098196</td>\n",
       "    </tr>\n",
       "    <tr>\n",
       "      <th>min</th>\n",
       "      <td>7.541881e+06</td>\n",
       "      <td>8.960750e+06</td>\n",
       "      <td>1.000000</td>\n",
       "      <td>1.000000</td>\n",
       "      <td>1.000000</td>\n",
       "      <td>1.000000</td>\n",
       "      <td>-1.193140e+06</td>\n",
       "      <td>6.000000</td>\n",
       "      <td>8870.000000</td>\n",
       "      <td>2023.000000</td>\n",
       "      <td>...</td>\n",
       "      <td>0.000000</td>\n",
       "      <td>1.000000</td>\n",
       "      <td>1.000000</td>\n",
       "      <td>1.000000</td>\n",
       "      <td>1.000000</td>\n",
       "      <td>0.000000</td>\n",
       "      <td>0.000000</td>\n",
       "      <td>1.000000</td>\n",
       "      <td>17.000000</td>\n",
       "      <td>0.000000</td>\n",
       "    </tr>\n",
       "    <tr>\n",
       "      <th>25%</th>\n",
       "      <td>8.616463e+06</td>\n",
       "      <td>1.033523e+07</td>\n",
       "      <td>2.000000</td>\n",
       "      <td>2.000000</td>\n",
       "      <td>3.000000</td>\n",
       "      <td>1.000000</td>\n",
       "      <td>0.000000e+00</td>\n",
       "      <td>7.000000</td>\n",
       "      <td>36470.000000</td>\n",
       "      <td>6420.000000</td>\n",
       "      <td>...</td>\n",
       "      <td>0.000000</td>\n",
       "      <td>2.000000</td>\n",
       "      <td>1.000000</td>\n",
       "      <td>2.000000</td>\n",
       "      <td>1.000000</td>\n",
       "      <td>2.000000</td>\n",
       "      <td>0.000000</td>\n",
       "      <td>1.000000</td>\n",
       "      <td>35.000000</td>\n",
       "      <td>1.000000</td>\n",
       "    </tr>\n",
       "    <tr>\n",
       "      <th>50%</th>\n",
       "      <td>9.758577e+06</td>\n",
       "      <td>1.177668e+07</td>\n",
       "      <td>3.000000</td>\n",
       "      <td>3.000000</td>\n",
       "      <td>3.000000</td>\n",
       "      <td>3.000000</td>\n",
       "      <td>5.000000e+04</td>\n",
       "      <td>7.000000</td>\n",
       "      <td>49580.000000</td>\n",
       "      <td>8265.000000</td>\n",
       "      <td>...</td>\n",
       "      <td>0.000000</td>\n",
       "      <td>3.000000</td>\n",
       "      <td>1.000000</td>\n",
       "      <td>2.000000</td>\n",
       "      <td>2.000000</td>\n",
       "      <td>6.000000</td>\n",
       "      <td>0.000000</td>\n",
       "      <td>1.000000</td>\n",
       "      <td>42.000000</td>\n",
       "      <td>2.000000</td>\n",
       "    </tr>\n",
       "    <tr>\n",
       "      <th>75%</th>\n",
       "      <td>1.075232e+07</td>\n",
       "      <td>1.305748e+07</td>\n",
       "      <td>4.000000</td>\n",
       "      <td>4.000000</td>\n",
       "      <td>3.000000</td>\n",
       "      <td>3.000000</td>\n",
       "      <td>1.768420e+05</td>\n",
       "      <td>7.000000</td>\n",
       "      <td>67800.000000</td>\n",
       "      <td>11304.000000</td>\n",
       "      <td>...</td>\n",
       "      <td>0.000000</td>\n",
       "      <td>3.000000</td>\n",
       "      <td>2.000000</td>\n",
       "      <td>3.000000</td>\n",
       "      <td>3.000000</td>\n",
       "      <td>9.000000</td>\n",
       "      <td>0.000000</td>\n",
       "      <td>2.000000</td>\n",
       "      <td>56.000000</td>\n",
       "      <td>5.000000</td>\n",
       "    </tr>\n",
       "    <tr>\n",
       "      <th>max</th>\n",
       "      <td>1.239077e+07</td>\n",
       "      <td>1.492181e+07</td>\n",
       "      <td>10.000000</td>\n",
       "      <td>19.000000</td>\n",
       "      <td>3.000000</td>\n",
       "      <td>5.000000</td>\n",
       "      <td>2.000270e+08</td>\n",
       "      <td>24.000000</td>\n",
       "      <td>612000.000000</td>\n",
       "      <td>118572.000000</td>\n",
       "      <td>...</td>\n",
       "      <td>1.000000</td>\n",
       "      <td>3.000000</td>\n",
       "      <td>3.000000</td>\n",
       "      <td>3.000000</td>\n",
       "      <td>6.000000</td>\n",
       "      <td>80.000000</td>\n",
       "      <td>1.000000</td>\n",
       "      <td>2.000000</td>\n",
       "      <td>98.000000</td>\n",
       "      <td>15.000000</td>\n",
       "    </tr>\n",
       "  </tbody>\n",
       "</table>\n",
       "<p>8 rows × 55 columns</p>\n",
       "</div>"
      ],
      "text/plain": [
       "       Event_Number  Claim_Number      Coverage1      Coverage2      PI_Class  \\\n",
       "count  5.180770e+05  4.621880e+05  462188.000000  462188.000000  95185.000000   \n",
       "mean   9.720327e+06  1.171118e+07       3.116505       3.684801      2.925892   \n",
       "std    1.248416e+06  1.555914e+06       1.571757       2.453307      0.318921   \n",
       "min    7.541881e+06  8.960750e+06       1.000000       1.000000      1.000000   \n",
       "25%    8.616463e+06  1.033523e+07       2.000000       2.000000      3.000000   \n",
       "50%    9.758577e+06  1.177668e+07       3.000000       3.000000      3.000000   \n",
       "75%    1.075232e+07  1.305748e+07       4.000000       4.000000      3.000000   \n",
       "max    1.239077e+07  1.492181e+07      10.000000      19.000000      3.000000   \n",
       "\n",
       "       IN_OUTPATIENT      Incurred  Contract_Status  Annual_Premium  \\\n",
       "count   74812.000000  5.180770e+05    517770.000000   518077.000000   \n",
       "mean        2.326940  1.653272e+05         8.630765    56748.640221   \n",
       "std         1.210362  9.215794e+05         3.952935    32042.557641   \n",
       "min         1.000000 -1.193140e+06         6.000000     8870.000000   \n",
       "25%         1.000000  0.000000e+00         7.000000    36470.000000   \n",
       "50%         3.000000  5.000000e+04         7.000000    49580.000000   \n",
       "75%         3.000000  1.768420e+05         7.000000    67800.000000   \n",
       "max         5.000000  2.000270e+08        24.000000   612000.000000   \n",
       "\n",
       "       Annual_Premium_BIL      ...          EQ_Coverage  License_Color  \\\n",
       "count       518077.000000      ...        518077.000000  518077.000000   \n",
       "mean          9884.482295      ...             0.013085       2.566518   \n",
       "std           6030.328908      ...             0.113639       0.524390   \n",
       "min           2023.000000      ...             0.000000       1.000000   \n",
       "25%           6420.000000      ...             0.000000       2.000000   \n",
       "50%           8265.000000      ...             0.000000       3.000000   \n",
       "75%          11304.000000      ...             0.000000       3.000000   \n",
       "max         118572.000000      ...             1.000000       3.000000   \n",
       "\n",
       "             Mileage          Usage       Car_Type        Car_Age  \\\n",
       "count  518077.000000  518077.000000  518077.000000  518077.000000   \n",
       "mean        1.596533       2.248594       1.967113       5.904676   \n",
       "std         0.684723       0.468868       0.844692       4.347452   \n",
       "min         1.000000       1.000000       1.000000       0.000000   \n",
       "25%         1.000000       2.000000       1.000000       2.000000   \n",
       "50%         1.000000       2.000000       2.000000       6.000000   \n",
       "75%         2.000000       3.000000       3.000000       9.000000   \n",
       "max         3.000000       3.000000       6.000000      80.000000   \n",
       "\n",
       "       Previous_Accidents    Insured_Sex    Insured_Age  Renewal_Times  \n",
       "count       518077.000000  518077.000000  518077.000000  518077.000000  \n",
       "mean             0.078519       1.416633      45.668277       3.290046  \n",
       "std              0.268987       0.493001      14.557836       3.098196  \n",
       "min              0.000000       1.000000      17.000000       0.000000  \n",
       "25%              0.000000       1.000000      35.000000       1.000000  \n",
       "50%              0.000000       1.000000      42.000000       2.000000  \n",
       "75%              0.000000       2.000000      56.000000       5.000000  \n",
       "max              1.000000       2.000000      98.000000      15.000000  \n",
       "\n",
       "[8 rows x 55 columns]"
      ]
     },
     "execution_count": 5,
     "metadata": {},
     "output_type": "execute_result"
    }
   ],
   "source": [
    "lloss.describe()"
   ]
  },
  {
   "cell_type": "markdown",
   "metadata": {},
   "source": [
    "# missing values\n",
    "- \" Claim_Number \" (under Event_Number, an accident can result in multiple claim numbers):   55889 \n",
    "- \" Coverage1 \" (coverage type 1) :   55889\n",
    "- \" Coverage2 \" (coverage type 2) :   55889\n",
    "- \" PI_Class \"  (personal injury class):  422892\n",
    "- \" IN_OUTPATIENT \" (whether in the hospital) :  443265\n",
    "- \" Driver \" (driver at the time of accident): 40822\n",
    "- \" Contract_Status \" (status of the contract):  307\n",
    "- \" Prev_Insurer_Category \" (category of previous insurer):  43\n",
    "- \" Original_Channel \"  (the method of reachingus for the first time):  44"
   ]
  },
  {
   "cell_type": "code",
   "execution_count": 6,
   "metadata": {
    "collapsed": false,
    "scrolled": false
   },
   "outputs": [
    {
     "data": {
      "text/plain": [
       "Event_Number                   0\n",
       "Claim_Number               55889\n",
       "Event_Occurrence_Month         0\n",
       "Inception_Month                0\n",
       "Issued_Date                    0\n",
       "Issued_Time                    0\n",
       "Coverage1                  55889\n",
       "Coverage2                  55889\n",
       "PI_Class                  422892\n",
       "IN_OUTPATIENT             443265\n",
       "Incurred                       0\n",
       "EV_LARGE                       0\n",
       "Driver                     40822\n",
       "Contract_Status              307\n",
       "Reason                         0\n",
       "Effective_Date                 0\n",
       "Annual_Premium                 0\n",
       "Annual_Premium_BIL             0\n",
       "Annual_Premium_PDL             0\n",
       "Annual_Premium_PPA             0\n",
       "Annual_Premium_PI              0\n",
       "Annual_Premium_ODPE            0\n",
       "Annual_Premium_OD              0\n",
       "Annual_Premium_PE              0\n",
       "Annual_Premium_FB              0\n",
       "Annual_Premium_FBB             0\n",
       "Annual_Premium_FBP             0\n",
       "Annual_Premium_LE              0\n",
       "Annual_Premium_AXAP            0\n",
       "Annual_Premium_PSE             0\n",
       "                           ...  \n",
       "PI_Type                        0\n",
       "FB_Coverage                    0\n",
       "LE_Coverage                    0\n",
       "PDL_Special_Coverage           0\n",
       "Anshin_Plus                    0\n",
       "Anshin_Plus_Ladies             0\n",
       "Anshin_Plus_Pet                0\n",
       "Anshin_Plus_Family             0\n",
       "Automatic_Renewal              0\n",
       "Age_Restriction                0\n",
       "Family_Restriction             0\n",
       "EQ_Coverage                    0\n",
       "Tariff                         0\n",
       "Bonus_Malus                    0\n",
       "Bonus_Malus_Range              0\n",
       "License_Color                  0\n",
       "Mileage                        0\n",
       "Usage                          0\n",
       "Car_Type                       0\n",
       "Car_Name                       0\n",
       "Car_Age                        0\n",
       "Previous_Accidents             0\n",
       "Insured_Sex                    0\n",
       "Insured_Age                    0\n",
       "Insured_Age_Range              0\n",
       "Region                         0\n",
       "Prefecture                     0\n",
       "Prev_Insurer_Category         43\n",
       "Original_Channel              44\n",
       "Renewal_Times                  0\n",
       "dtype: int64"
      ]
     },
     "execution_count": 6,
     "metadata": {},
     "output_type": "execute_result"
    }
   ],
   "source": [
    "lloss.isnull().sum()"
   ]
  },
  {
   "cell_type": "markdown",
   "metadata": {},
   "source": [
    "# explore target variable \"EV_LARGE\""
   ]
  },
  {
   "cell_type": "code",
   "execution_count": 7,
   "metadata": {
    "collapsed": false,
    "scrolled": true
   },
   "outputs": [
    {
     "data": {
      "text/plain": [
       "0"
      ]
     },
     "execution_count": 7,
     "metadata": {},
     "output_type": "execute_result"
    }
   ],
   "source": [
    "lloss['EV_LARGE'].isnull().sum()"
   ]
  },
  {
   "cell_type": "code",
   "execution_count": 8,
   "metadata": {
    "collapsed": false
   },
   "outputs": [
    {
     "data": {
      "text/plain": [
       "EV_000M    466851\n",
       "EV_001M     32146\n",
       "EV_002M      9353\n",
       "EV_004M      5312\n",
       "EV_003M      2787\n",
       "EV_010M      1574\n",
       "EV_090M        54\n",
       "Name: EV_LARGE, dtype: int64"
      ]
     },
     "execution_count": 8,
     "metadata": {},
     "output_type": "execute_result"
    }
   ],
   "source": [
    "# how large each class is \n",
    "lloss['EV_LARGE'].value_counts()"
   ]
  },
  {
   "cell_type": "markdown",
   "metadata": {
    "collapsed": true
   },
   "source": [
    "#EV_OO0M means less than 1M : non-large loss class with 466851 records\n",
    "\n",
    "#Addition of EV_OO1M to EV_090M : large loss class with 51226 records\n",
    "\n",
    "#Definitely skewed and unbalanced data"
   ]
  },
  {
   "cell_type": "markdown",
   "metadata": {},
   "source": [
    "#redefine target varible\n",
    "\n",
    "- replace 'EV_000M 'with 0, otherwise 1"
   ]
  },
  {
   "cell_type": "code",
   "execution_count": 9,
   "metadata": {
    "collapsed": true
   },
   "outputs": [],
   "source": [
    "lloss['EV_LARGE'] = lloss['EV_LARGE'].replace(['EV_001M','EV_002M','EV_004M','EV_003M','EV_010M',\n",
    "                          'EV_090M'],1)"
   ]
  },
  {
   "cell_type": "code",
   "execution_count": 10,
   "metadata": {
    "collapsed": true
   },
   "outputs": [],
   "source": [
    "lloss['EV_LARGE'] = lloss['EV_LARGE'].replace(['EV_000M'],0)"
   ]
  },
  {
   "cell_type": "code",
   "execution_count": 11,
   "metadata": {
    "collapsed": false
   },
   "outputs": [
    {
     "data": {
      "text/plain": [
       "0    466851\n",
       "1     51226\n",
       "Name: EV_LARGE, dtype: int64"
      ]
     },
     "execution_count": 11,
     "metadata": {},
     "output_type": "execute_result"
    }
   ],
   "source": [
    "lloss['EV_LARGE'].value_counts()"
   ]
  },
  {
   "cell_type": "markdown",
   "metadata": {},
   "source": [
    "# explore target variable \"Incurred\" for regression"
   ]
  },
  {
   "cell_type": "code",
   "execution_count": 12,
   "metadata": {
    "collapsed": false
   },
   "outputs": [
    {
     "data": {
      "text/plain": [
       "0          199653\n",
       "50000       10776\n",
       "10000        9890\n",
       "150000       4767\n",
       "100000       4586\n",
       "20000         847\n",
       "200000        778\n",
       "3150          763\n",
       "5250          702\n",
       "3000          676\n",
       "300000        652\n",
       "2100          459\n",
       "4000          353\n",
       "4200          327\n",
       "5000          327\n",
       "450000        269\n",
       "5400          266\n",
       "550000        238\n",
       "1050          227\n",
       "400000        207\n",
       "10500         199\n",
       "8400          191\n",
       "8000          188\n",
       "120000        185\n",
       "140000        177\n",
       "500000        173\n",
       "210000        173\n",
       "160000        169\n",
       "180000        167\n",
       "3240          163\n",
       "            ...  \n",
       "384293          1\n",
       "800024          1\n",
       "48521           1\n",
       "279830          1\n",
       "285973          1\n",
       "816400          1\n",
       "300300          1\n",
       "306443          1\n",
       "791910          1\n",
       "326913          1\n",
       "441673          1\n",
       "435530          1\n",
       "437579          1\n",
       "1233342         1\n",
       "216668          1\n",
       "54660           1\n",
       "585091          1\n",
       "58754           1\n",
       "3734913         1\n",
       "468346          1\n",
       "1426178         1\n",
       "484722          1\n",
       "2023982         1\n",
       "170454          1\n",
       "400733          1\n",
       "402778          1\n",
       "408921          1\n",
       "425297          1\n",
       "433485          1\n",
       "104013          1\n",
       "Name: Incurred, dtype: int64"
      ]
     },
     "execution_count": 12,
     "metadata": {},
     "output_type": "execute_result"
    }
   ],
   "source": [
    "lloss['Incurred'].value_counts()"
   ]
  },
  {
   "cell_type": "markdown",
   "metadata": {},
   "source": [
    "# working on missing values"
   ]
  },
  {
   "cell_type": "code",
   "execution_count": 13,
   "metadata": {
    "collapsed": false
   },
   "outputs": [
    {
     "data": {
      "text/plain": [
       "3.0    89706\n",
       "2.0     3904\n",
       "1.0     1575\n",
       "Name: PI_Class, dtype: int64"
      ]
     },
     "execution_count": 13,
     "metadata": {},
     "output_type": "execute_result"
    }
   ],
   "source": [
    "lloss['PI_Class'].value_counts()"
   ]
  },
  {
   "cell_type": "code",
   "execution_count": 14,
   "metadata": {
    "collapsed": false
   },
   "outputs": [],
   "source": [
    "lloss['PI_Class'] = lloss['PI_Class'].fillna(0)\n",
    "lloss['IN_OUTPATIENT'] = lloss['IN_OUTPATIENT'].fillna(0)"
   ]
  },
  {
   "cell_type": "markdown",
   "metadata": {},
   "source": [
    "# delete irrelevant features\n",
    "\n",
    "- 'Driver'\n",
    "\n",
    "- 'Coverage1'\n",
    "\n",
    "- 'Coverage2"
   ]
  },
  {
   "cell_type": "code",
   "execution_count": 15,
   "metadata": {
    "collapsed": true
   },
   "outputs": [],
   "source": [
    "lloss = lloss.drop(['Coverage1','Coverage2','Driver'], axis=1)"
   ]
  },
  {
   "cell_type": "markdown",
   "metadata": {},
   "source": [
    "# clean independent variables"
   ]
  },
  {
   "cell_type": "code",
   "execution_count": 16,
   "metadata": {
    "collapsed": true
   },
   "outputs": [],
   "source": [
    "lloss['Reason'] = lloss['Reason'].replace('契約開始', 'The contract begins')\n",
    "lloss['Reason'] = lloss['Reason'].replace('車両入替', 'Replacement vehicle')\n",
    "lloss['Reason'] = lloss['Reason'].replace('パートナー情報', 'Partner Information')\n",
    "lloss['Reason'] = lloss['Reason'].replace('その他の変更', 'Other changes')\n",
    "lloss['Reason'] = lloss['Reason'].replace('運転者年齢条件', 'Driver age conditions')\n",
    "lloss['Reason'] = lloss['Reason'].replace('VAN訂正', 'VAN Revised')\n",
    "lloss['Reason'] = lloss['Reason'].replace('家族限定特約', 'Family limited special')\n",
    "lloss['Reason'] = lloss['Reason'].replace('車両保険', 'Vehicle insurance')\n",
    "lloss['Reason'] = lloss['Reason'].replace('使用目的', 'Intended use')\n",
    "lloss['Reason'] = lloss['Reason'].replace('距離区分', 'Distance classification')\n",
    "lloss['Reason'] = lloss['Reason'].replace('免許証の色', 'License color')\n",
    "lloss['Reason'] = lloss['Reason'].replace('居住地域', 'Residential area')\n",
    "lloss['Reason'] = lloss['Reason'].replace('等級訂正', 'Grade correction')\n",
    "lloss['Reason'] = lloss['Reason'].replace('ファミリーバイク', 'Family bike')\n",
    "lloss['Reason'] = lloss['Reason'].replace('登録番号', 'Registration number')\n",
    "lloss['Reason'] = lloss['Reason'].replace('車台番号', 'Chassis number')\n",
    "lloss['Reason'] = lloss['Reason'].replace('記名被保険者の変更', 'Changes to the name insured')\n",
    "lloss['Reason'] = lloss['Reason'].replace('人身傷害補償担保特約', 'Personal injury compensation security agreement')\n",
    "lloss['Reason'] = lloss['Reason'].replace('誤計上による訂正', 'Correction by miscorrection')\n",
    "lloss['Reason'] = lloss['Reason'].replace('車両所有者の変更', 'Change of vehicle owner')\n",
    "lloss['Reason'] = lloss['Reason'].replace('搭乗者傷害保険金額', 'Passenger injury insurance amount')\n",
    "lloss['Reason'] = lloss['Reason'].replace('ﾍﾟｯﾄﾌﾟﾗｽ', 'Pet Plus')\n",
    "lloss['Reason'] = lloss['Reason'].replace('弁護士費用(人+物)', 'Attorney fee (person + thing)')\n",
    "lloss['Reason'] = lloss['Reason'].replace('免責金額の変更', 'Change of deductible amount')\n",
    "lloss['Reason'] = lloss['Reason'].replace('自動継続特約', 'Automatic continuation rider')\n",
    "lloss['Reason'] = lloss['Reason'].replace('対物賠償金額', 'Object reparation amount')\n",
    "lloss['Reason'] = lloss['Reason'].replace('ﾌｧﾐﾘｰﾌﾟﾗｽ', 'Family Plus')\n",
    "lloss['Reason'] = lloss['Reason'].replace('車両免責ゼロ特約', 'Vehicle disclaimer Zero rider')\n",
    "lloss['Reason'] = lloss['Reason'].replace('対物全損時費用', 'Objective total loss cost')\n",
    "lloss['Reason'] = lloss['Reason'].replace('口座情報', 'Account information')\n",
    "lloss['Reason'] = lloss['Reason'].replace('任意解約', 'Arbitrary cancellation')\n",
    "lloss['Reason'] = lloss['Reason'].replace('未払い解除', 'Unpaid released')\n",
    "lloss['Reason'] = lloss['Reason'].replace('車両価額', 'Vehicle price')\n",
    "lloss['Reason'] = lloss['Reason'].replace('ﾚﾃﾞｨｰｽﾌﾟﾗｽ', \"Women's Plus\")\n",
    "lloss['Reason'] = lloss['Reason'].replace('地震全損一時金', 'Earthquake total loss lump sum')\n",
    "lloss['Reason'] = lloss['Reason'].replace('初度登録年月', 'First registration date')\n",
    "lloss['Reason'] = lloss['Reason'].replace('エアバッグ', 'Airbag')\n",
    "lloss['Reason'] = lloss['Reason'].replace('免許取得日', 'License Acquisition Date')\n",
    "lloss['Reason'] = lloss['Reason'].replace('約款違反解除（日割）', 'Cancellation of violation of contracts (daily)')\n",
    "lloss['Reason'] = lloss['Reason'].replace('任意解約(会社都合)', 'Optional cancellation (company convenience)')\n",
    "lloss['Reason'] = lloss['Reason'].replace('契約取消', 'Contract cancellation')"
   ]
  },
  {
   "cell_type": "code",
   "execution_count": 17,
   "metadata": {
    "collapsed": true
   },
   "outputs": [],
   "source": [
    "import re\n",
    "lloss['Reason'] = lloss['Reason'].apply(lambda x: re.sub(' +',' ',x.lower()))"
   ]
  },
  {
   "cell_type": "markdown",
   "metadata": {},
   "source": [
    "# feature: 'Annual_Premium'"
   ]
  },
  {
   "cell_type": "code",
   "execution_count": 18,
   "metadata": {
    "collapsed": false
   },
   "outputs": [
    {
     "data": {
      "text/plain": [
       "357600      1\n",
       "167110      1\n",
       "231720      1\n",
       "202420      1\n",
       "124650      1\n",
       "183040      1\n",
       "111820      1\n",
       "201880      1\n",
       "174210      1\n",
       "11680       1\n",
       "142620      1\n",
       "150080      1\n",
       "225940      1\n",
       "197530      1\n",
       "358200      1\n",
       "239330      1\n",
       "166930      1\n",
       "144060      1\n",
       "152240      1\n",
       "113120      1\n",
       "124330      1\n",
       "264840      1\n",
       "207980      1\n",
       "117230      1\n",
       "135140      1\n",
       "160180      1\n",
       "187020      1\n",
       "148190      1\n",
       "110140      1\n",
       "203040      1\n",
       "         ... \n",
       "48720     343\n",
       "52560     344\n",
       "43200     345\n",
       "56520     346\n",
       "47640     346\n",
       "51840     346\n",
       "41400     347\n",
       "46680     348\n",
       "46200     348\n",
       "52800     351\n",
       "48480     351\n",
       "46320     351\n",
       "49560     352\n",
       "48360     352\n",
       "46920     353\n",
       "45840     353\n",
       "43560     354\n",
       "44640     355\n",
       "45240     355\n",
       "41520     355\n",
       "46800     356\n",
       "46080     359\n",
       "41280     362\n",
       "44400     365\n",
       "47880     368\n",
       "40920     368\n",
       "55680     369\n",
       "53640     376\n",
       "49800     377\n",
       "48000     398\n",
       "Name: Annual_Premium, dtype: int64"
      ]
     },
     "execution_count": 18,
     "metadata": {},
     "output_type": "execute_result"
    }
   ],
   "source": [
    "lloss['Annual_Premium'].value_counts().sort_values()"
   ]
  },
  {
   "cell_type": "code",
   "execution_count": 19,
   "metadata": {
    "collapsed": false
   },
   "outputs": [
    {
     "data": {
      "text/plain": [
       "612000"
      ]
     },
     "execution_count": 19,
     "metadata": {},
     "output_type": "execute_result"
    }
   ],
   "source": [
    "lloss['Annual_Premium'].max()"
   ]
  },
  {
   "cell_type": "code",
   "execution_count": 20,
   "metadata": {
    "collapsed": false
   },
   "outputs": [
    {
     "data": {
      "text/plain": [
       "8870"
      ]
     },
     "execution_count": 20,
     "metadata": {},
     "output_type": "execute_result"
    }
   ],
   "source": [
    "lloss['Annual_Premium'].min()"
   ]
  },
  {
   "cell_type": "markdown",
   "metadata": {},
   "source": [
    "#['Annual_Premium'] : range from 8870 to 612000"
   ]
  },
  {
   "cell_type": "code",
   "execution_count": 22,
   "metadata": {
    "collapsed": false
   },
   "outputs": [
    {
     "data": {
      "text/plain": [
       "75648      1\n",
       "21403      1\n",
       "21491      1\n",
       "23538      1\n",
       "23450      1\n",
       "35660      1\n",
       "17817      1\n",
       "23047      1\n",
       "25671      1\n",
       "19352      1\n",
       "14859      1\n",
       "2573       1\n",
       "17063      1\n",
       "33613      1\n",
       "21569      1\n",
       "21702      1\n",
       "17156      1\n",
       "39768      1\n",
       "3287       1\n",
       "17305      1\n",
       "20721      1\n",
       "16338      1\n",
       "29599      1\n",
       "24839      1\n",
       "3064       1\n",
       "25491      1\n",
       "27554      1\n",
       "43652      1\n",
       "17493      1\n",
       "41652      1\n",
       "        ... \n",
       "7200     218\n",
       "9000     218\n",
       "7764     218\n",
       "9240     219\n",
       "6888     219\n",
       "7092     220\n",
       "6900     222\n",
       "8400     223\n",
       "9252     224\n",
       "6420     224\n",
       "7992     224\n",
       "7512     225\n",
       "6636     225\n",
       "9312     226\n",
       "7872     230\n",
       "6924     231\n",
       "7272     231\n",
       "6492     231\n",
       "8028     231\n",
       "7416     233\n",
       "8304     234\n",
       "6912     235\n",
       "6552     238\n",
       "7824     239\n",
       "7728     240\n",
       "7440     240\n",
       "8976     244\n",
       "6780     250\n",
       "8136     252\n",
       "7548     261\n",
       "Name: Annual_Premium_BIL, dtype: int64"
      ]
     },
     "execution_count": 22,
     "metadata": {},
     "output_type": "execute_result"
    }
   ],
   "source": [
    "lloss['Annual_Premium_BIL'].value_counts().sort_values()"
   ]
  },
  {
   "cell_type": "code",
   "execution_count": 23,
   "metadata": {
    "collapsed": false
   },
   "outputs": [
    {
     "data": {
      "text/plain": [
       "6147        1\n",
       "83796       1\n",
       "42856       1\n",
       "30578       1\n",
       "89316       1\n",
       "34015       1\n",
       "6014        1\n",
       "50391       1\n",
       "6270        1\n",
       "106825      1\n",
       "33133       1\n",
       "29889       1\n",
       "6526        1\n",
       "45675       1\n",
       "70495       1\n",
       "43880       1\n",
       "44649       1\n",
       "63074       1\n",
       "36318       1\n",
       "32115       1\n",
       "37501       1\n",
       "25443       1\n",
       "30331       1\n",
       "38759       1\n",
       "56676       1\n",
       "74328       1\n",
       "26563       1\n",
       "35437       1\n",
       "29298       1\n",
       "98016       1\n",
       "         ... \n",
       "12360     142\n",
       "13968     142\n",
       "14208     143\n",
       "13680     143\n",
       "14136     144\n",
       "13104     144\n",
       "13488     145\n",
       "15204     145\n",
       "13416     146\n",
       "14064     146\n",
       "13896     146\n",
       "11688     146\n",
       "13536     146\n",
       "13860     147\n",
       "15084     147\n",
       "13740     148\n",
       "14268     148\n",
       "16044     148\n",
       "13956     148\n",
       "13140     148\n",
       "14544     149\n",
       "15288     149\n",
       "12612     150\n",
       "14388     150\n",
       "13308     151\n",
       "13980     152\n",
       "14196     155\n",
       "14124     156\n",
       "12288     157\n",
       "14436     170\n",
       "Name: Annual_Premium_PDL, dtype: int64"
      ]
     },
     "execution_count": 23,
     "metadata": {},
     "output_type": "execute_result"
    }
   ],
   "source": [
    "lloss['Annual_Premium_PDL'].value_counts().sort_values()"
   ]
  },
  {
   "cell_type": "code",
   "execution_count": 24,
   "metadata": {
    "collapsed": false
   },
   "outputs": [
    {
     "data": {
      "text/plain": [
       "8934         1\n",
       "11964        1\n",
       "6614         1\n",
       "5563         1\n",
       "8688         1\n",
       "5682         1\n",
       "6909         1\n",
       "7925         1\n",
       "9660         1\n",
       "6391         1\n",
       "9880         1\n",
       "6707         1\n",
       "5329         1\n",
       "7376         1\n",
       "9768         1\n",
       "6863         1\n",
       "13056        1\n",
       "6607         1\n",
       "5927         1\n",
       "6181         1\n",
       "5939         1\n",
       "6070         1\n",
       "6193         1\n",
       "7172         1\n",
       "6583         1\n",
       "5588         1\n",
       "6065         1\n",
       "6449         1\n",
       "6326         1\n",
       "8380         1\n",
       "         ...  \n",
       "1692       872\n",
       "1656       875\n",
       "1416       877\n",
       "1464       878\n",
       "1308       879\n",
       "1368       882\n",
       "1596       887\n",
       "1680       892\n",
       "1344       893\n",
       "1704       893\n",
       "1356       893\n",
       "1536       896\n",
       "1476       897\n",
       "1500       901\n",
       "1548       907\n",
       "1512       913\n",
       "1728       913\n",
       "1332       913\n",
       "1428       914\n",
       "1488       915\n",
       "1608       922\n",
       "1848       922\n",
       "1392       925\n",
       "1740       926\n",
       "1404       934\n",
       "1524       938\n",
       "1320       950\n",
       "1572       961\n",
       "1560       975\n",
       "0        27662\n",
       "Name: Annual_Premium_PPA, dtype: int64"
      ]
     },
     "execution_count": 24,
     "metadata": {},
     "output_type": "execute_result"
    }
   ],
   "source": [
    "lloss['Annual_Premium_PPA'].value_counts().sort_values()"
   ]
  },
  {
   "cell_type": "code",
   "execution_count": 25,
   "metadata": {
    "collapsed": false,
    "scrolled": false
   },
   "outputs": [
    {
     "data": {
      "text/plain": [
       "13013        1\n",
       "13233        1\n",
       "14417        1\n",
       "22367        1\n",
       "22934        1\n",
       "15294        1\n",
       "13626        1\n",
       "17841        1\n",
       "11454        1\n",
       "10589        1\n",
       "1947         1\n",
       "14396        1\n",
       "13245        1\n",
       "19378        1\n",
       "1879         1\n",
       "12698        1\n",
       "11186        1\n",
       "10907        1\n",
       "23484        1\n",
       "11698        1\n",
       "12735        1\n",
       "16319        1\n",
       "12859        1\n",
       "1976         1\n",
       "13115        1\n",
       "19860        1\n",
       "13627        1\n",
       "14780        1\n",
       "13246        1\n",
       "17328        1\n",
       "         ...  \n",
       "4308       333\n",
       "3972       334\n",
       "4752       334\n",
       "4380       335\n",
       "4536       338\n",
       "4896       338\n",
       "5436       338\n",
       "4044       338\n",
       "4812       340\n",
       "4704       341\n",
       "4572       345\n",
       "5232       348\n",
       "4008       351\n",
       "5040       353\n",
       "3840       354\n",
       "4236       355\n",
       "5112       355\n",
       "4080       361\n",
       "4440       361\n",
       "4272       361\n",
       "4332       361\n",
       "4776       368\n",
       "3984       368\n",
       "5064       369\n",
       "4848       370\n",
       "4824       383\n",
       "4668       396\n",
       "4188       396\n",
       "4608       396\n",
       "0        89207\n",
       "Name: Annual_Premium_PI, dtype: int64"
      ]
     },
     "execution_count": 25,
     "metadata": {},
     "output_type": "execute_result"
    }
   ],
   "source": [
    "lloss['Annual_Premium_PI'].value_counts().sort_values()"
   ]
  },
  {
   "cell_type": "code",
   "execution_count": 26,
   "metadata": {
    "collapsed": false
   },
   "outputs": [
    {
     "data": {
      "text/plain": [
       "8188           1\n",
       "36057          1\n",
       "37769          1\n",
       "38106          1\n",
       "12565          1\n",
       "56607          1\n",
       "96948          1\n",
       "45965          1\n",
       "53513          1\n",
       "41888          1\n",
       "14612          1\n",
       "39847          1\n",
       "43270          1\n",
       "35979          1\n",
       "68766          1\n",
       "61709          1\n",
       "131155         1\n",
       "66452          1\n",
       "58280          1\n",
       "48403          1\n",
       "145884         1\n",
       "47598          1\n",
       "80316          1\n",
       "70890          1\n",
       "45453          1\n",
       "33163          1\n",
       "62625          1\n",
       "47620          1\n",
       "43526          1\n",
       "59782          1\n",
       "           ...  \n",
       "24612         61\n",
       "19632         61\n",
       "18000         61\n",
       "20796         61\n",
       "21684         61\n",
       "25500         61\n",
       "18216         62\n",
       "20844         62\n",
       "23712         63\n",
       "16068         63\n",
       "20820         64\n",
       "30576         65\n",
       "19176         65\n",
       "23376         65\n",
       "23520         65\n",
       "18720         65\n",
       "23904         65\n",
       "21780         65\n",
       "17016         65\n",
       "18300         66\n",
       "20508         66\n",
       "28824         67\n",
       "23832         67\n",
       "29580         68\n",
       "21120         68\n",
       "14724         69\n",
       "20904         71\n",
       "22776         74\n",
       "17460         79\n",
       "0         151642\n",
       "Name: Annual_Premium_ODPE, dtype: int64"
      ]
     },
     "execution_count": 26,
     "metadata": {},
     "output_type": "execute_result"
    }
   ],
   "source": [
    "lloss['Annual_Premium_ODPE'].value_counts().sort_values()"
   ]
  },
  {
   "cell_type": "code",
   "execution_count": 27,
   "metadata": {
    "collapsed": false
   },
   "outputs": [
    {
     "data": {
      "text/plain": [
       "109898         1\n",
       "44694          1\n",
       "56656          1\n",
       "56984          1\n",
       "112309         1\n",
       "48476          1\n",
       "47763          1\n",
       "58527          1\n",
       "89440          1\n",
       "155136         1\n",
       "45714          1\n",
       "84397          1\n",
       "53662          1\n",
       "51613          1\n",
       "43409          1\n",
       "71017          1\n",
       "41360          1\n",
       "36958          1\n",
       "130236         1\n",
       "44894          1\n",
       "9863           1\n",
       "7808           1\n",
       "67435          1\n",
       "73120          1\n",
       "50587          1\n",
       "72864          1\n",
       "52634          1\n",
       "46485          1\n",
       "10313          1\n",
       "6223           1\n",
       "           ...  \n",
       "14868         62\n",
       "26640         63\n",
       "17364         63\n",
       "23160         63\n",
       "20940         63\n",
       "22008         64\n",
       "17688         64\n",
       "19476         64\n",
       "28440         65\n",
       "24672         65\n",
       "16512         65\n",
       "21996         65\n",
       "16884         66\n",
       "23580         66\n",
       "21252         66\n",
       "23328         67\n",
       "23292         68\n",
       "22344         70\n",
       "27444         70\n",
       "16200         70\n",
       "23304         70\n",
       "23592         72\n",
       "23832         72\n",
       "20352         73\n",
       "18684         75\n",
       "26076         75\n",
       "21060         76\n",
       "20160         77\n",
       "17568         78\n",
       "0         151642\n",
       "Name: Annual_Premium_OD, dtype: int64"
      ]
     },
     "execution_count": 27,
     "metadata": {},
     "output_type": "execute_result"
    }
   ],
   "source": [
    "lloss['Annual_Premium_OD'].value_counts().sort_values()"
   ]
  },
  {
   "cell_type": "code",
   "execution_count": 28,
   "metadata": {
    "collapsed": false
   },
   "outputs": [
    {
     "data": {
      "text/plain": [
       "506076"
      ]
     },
     "execution_count": 28,
     "metadata": {},
     "output_type": "execute_result"
    }
   ],
   "source": [
    "lloss['Annual_Premium_OD'].max()"
   ]
  },
  {
   "cell_type": "markdown",
   "metadata": {},
   "source": [
    "#\"Annual_Premium_OD\"\n",
    "- definition of \"OD\" : damage to your own vehicle\n",
    "- numerical data ranging from \"0\" to \"506076\" because of different premium policies\n",
    "- value \"0\" appears most : 151642 times\n",
    "- \"0\" means \"This customer didn't pay annual premium for car damage\"?"
   ]
  },
  {
   "cell_type": "code",
   "execution_count": 29,
   "metadata": {
    "collapsed": false
   },
   "outputs": [
    {
     "data": {
      "text/plain": [
       "1485         1\n",
       "1726         1\n",
       "2360         1\n",
       "1593         1\n",
       "2083         1\n",
       "2748         1\n",
       "1508         1\n",
       "1486         1\n",
       "1599         1\n",
       "2868         1\n",
       "1793         1\n",
       "1701         1\n",
       "2033         1\n",
       "1901         1\n",
       "103          1\n",
       "1784         1\n",
       "1551         1\n",
       "1925         1\n",
       "1790         1\n",
       "1397         1\n",
       "1847         1\n",
       "1473         1\n",
       "1729         1\n",
       "1326         1\n",
       "2048         1\n",
       "1837         1\n",
       "2484         1\n",
       "1994         1\n",
       "2856         1\n",
       "1565         1\n",
       "         ...  \n",
       "624       1532\n",
       "288       1611\n",
       "612       1619\n",
       "600       1620\n",
       "588       1692\n",
       "576       1698\n",
       "564       1763\n",
       "300       1768\n",
       "312       1839\n",
       "552       1891\n",
       "324       1903\n",
       "528       1915\n",
       "540       1947\n",
       "336       2042\n",
       "516       2115\n",
       "504       2152\n",
       "432       2276\n",
       "492       2280\n",
       "348       2293\n",
       "444       2296\n",
       "468       2328\n",
       "384       2352\n",
       "360       2359\n",
       "420       2371\n",
       "456       2394\n",
       "396       2394\n",
       "372       2406\n",
       "408       2419\n",
       "480       2436\n",
       "0       151642\n",
       "Name: Annual_Premium_PE, dtype: int64"
      ]
     },
     "execution_count": 29,
     "metadata": {},
     "output_type": "execute_result"
    }
   ],
   "source": [
    "lloss['Annual_Premium_PE'].value_counts().sort_values()"
   ]
  },
  {
   "cell_type": "code",
   "execution_count": 30,
   "metadata": {
    "collapsed": false
   },
   "outputs": [
    {
     "data": {
      "text/plain": [
       "3780"
      ]
     },
     "execution_count": 30,
     "metadata": {},
     "output_type": "execute_result"
    }
   ],
   "source": [
    "lloss['Annual_Premium_PE'].max()"
   ]
  },
  {
   "cell_type": "markdown",
   "metadata": {},
   "source": [
    "#\"Annual_Premium_PE\n",
    "- definition: personal effects mean privately owned items\n",
    "- numerical data ranging from \"0\" to \"3780\"\n",
    "- value \"0\" appears most: 151642 times"
   ]
  },
  {
   "cell_type": "code",
   "execution_count": 31,
   "metadata": {
    "collapsed": false
   },
   "outputs": [
    {
     "data": {
      "text/plain": [
       "7848        39\n",
       "6648        48\n",
       "7692        51\n",
       "7836        56\n",
       "7680        75\n",
       "6576        91\n",
       "5220       100\n",
       "8664       132\n",
       "7475       147\n",
       "8652       158\n",
       "7330       166\n",
       "5172       197\n",
       "6333       247\n",
       "7319       250\n",
       "7464       258\n",
       "8258       297\n",
       "6268       312\n",
       "8246       442\n",
       "4970       508\n",
       "4919       598\n",
       "7728      1263\n",
       "7056      1321\n",
       "7884      1392\n",
       "5544      2183\n",
       "7361      3707\n",
       "8700      3883\n",
       "6725      3910\n",
       "7507      4062\n",
       "5277      7329\n",
       "8294      9759\n",
       "0       475096\n",
       "Name: Annual_Premium_FB, dtype: int64"
      ]
     },
     "execution_count": 31,
     "metadata": {},
     "output_type": "execute_result"
    }
   ],
   "source": [
    "lloss['Annual_Premium_FB'].value_counts().sort_values()"
   ]
  },
  {
   "cell_type": "code",
   "execution_count": 32,
   "metadata": {
    "collapsed": false
   },
   "outputs": [
    {
     "data": {
      "text/plain": [
       "8700"
      ]
     },
     "execution_count": 32,
     "metadata": {},
     "output_type": "execute_result"
    }
   ],
   "source": [
    "lloss['Annual_Premium_FB'].max()"
   ]
  },
  {
   "cell_type": "markdown",
   "metadata": {},
   "source": [
    "#\"Annual_Premium_FB\" \n",
    "- means family bike = motorcycle \n",
    "- numerical data ranging from \"0\" to \"8700\""
   ]
  },
  {
   "cell_type": "code",
   "execution_count": 33,
   "metadata": {
    "collapsed": false
   },
   "outputs": [
    {
     "data": {
      "text/plain": [
       "3624        39\n",
       "3108        48\n",
       "3552        51\n",
       "3612        56\n",
       "3540        75\n",
       "3036        91\n",
       "2436       100\n",
       "3996       132\n",
       "3448       147\n",
       "3984       158\n",
       "3381       166\n",
       "2388       197\n",
       "2957       247\n",
       "3370       250\n",
       "3437       258\n",
       "3809       297\n",
       "2892       312\n",
       "3797       442\n",
       "2321       508\n",
       "2270       598\n",
       "3588      1263\n",
       "3516      1321\n",
       "3660      1392\n",
       "2760      2183\n",
       "3412      3707\n",
       "4032      3883\n",
       "3349      3910\n",
       "3480      4062\n",
       "2628      7329\n",
       "3845      9759\n",
       "0       475096\n",
       "Name: Annual_Premium_FBP, dtype: int64"
      ]
     },
     "execution_count": 33,
     "metadata": {},
     "output_type": "execute_result"
    }
   ],
   "source": [
    "lloss['Annual_Premium_FBP'].value_counts().sort_values()"
   ]
  },
  {
   "cell_type": "code",
   "execution_count": 34,
   "metadata": {
    "collapsed": false
   },
   "outputs": [
    {
     "data": {
      "text/plain": [
       "4032"
      ]
     },
     "execution_count": 34,
     "metadata": {},
     "output_type": "execute_result"
    }
   ],
   "source": [
    "lloss['Annual_Premium_FBP'].max()"
   ]
  },
  {
   "cell_type": "markdown",
   "metadata": {
    "collapsed": true
   },
   "source": [
    "#the result is the same as the one for \"Annual_Premium_FB\"\n",
    "\n",
    "\" Annual_Premium_FBP\"\n",
    "\n",
    "- definition: family bike property damage\n",
    "\n",
    "- maximum : 4032"
   ]
  },
  {
   "cell_type": "code",
   "execution_count": 35,
   "metadata": {
    "collapsed": false
   },
   "outputs": [
    {
     "data": {
      "text/plain": [
       "4140      1389\n",
       "3540      1460\n",
       "4224      1487\n",
       "2784      2480\n",
       "3949      4123\n",
       "4668      4173\n",
       "4027      4467\n",
       "3376      4469\n",
       "2649      8435\n",
       "4449     10498\n",
       "0       475096\n",
       "Name: Annual_Premium_FBB, dtype: int64"
      ]
     },
     "execution_count": 35,
     "metadata": {},
     "output_type": "execute_result"
    }
   ],
   "source": [
    "lloss['Annual_Premium_FBB'].value_counts().sort_values()"
   ]
  },
  {
   "cell_type": "code",
   "execution_count": 36,
   "metadata": {
    "collapsed": false
   },
   "outputs": [
    {
     "data": {
      "text/plain": [
       "4668"
      ]
     },
     "execution_count": 36,
     "metadata": {},
     "output_type": "execute_result"
    }
   ],
   "source": [
    "lloss['Annual_Premium_FBB'].max()"
   ]
  },
  {
   "cell_type": "code",
   "execution_count": 37,
   "metadata": {
    "collapsed": false
   },
   "outputs": [
    {
     "data": {
      "text/plain": [
       "3096       181\n",
       "2947       645\n",
       "3756       899\n",
       "3573      2156\n",
       "3144      4166\n",
       "3408     12788\n",
       "3084     13495\n",
       "2994     14253\n",
       "3248     35632\n",
       "2935     46504\n",
       "0       387358\n",
       "Name: Annual_Premium_LE, dtype: int64"
      ]
     },
     "execution_count": 37,
     "metadata": {},
     "output_type": "execute_result"
    }
   ],
   "source": [
    "lloss['Annual_Premium_LE'].value_counts().sort_values()"
   ]
  },
  {
   "cell_type": "code",
   "execution_count": 38,
   "metadata": {
    "collapsed": false
   },
   "outputs": [
    {
     "data": {
      "text/plain": [
       "3756"
      ]
     },
     "execution_count": 38,
     "metadata": {},
     "output_type": "execute_result"
    }
   ],
   "source": [
    "lloss['Annual_Premium_LE'].max()"
   ]
  },
  {
   "cell_type": "code",
   "execution_count": 39,
   "metadata": {
    "collapsed": false
   },
   "outputs": [
    {
     "data": {
      "text/plain": [
       "2821         1\n",
       "2766         1\n",
       "2976         1\n",
       "3046         1\n",
       "1272         1\n",
       "1224         2\n",
       "2841         2\n",
       "3120         2\n",
       "1200         2\n",
       "2952         3\n",
       "1168         3\n",
       "2888         4\n",
       "1207         4\n",
       "2856         5\n",
       "3072         5\n",
       "1145         6\n",
       "3118         6\n",
       "3180         8\n",
       "2660         9\n",
       "2964        10\n",
       "1308        10\n",
       "3252        10\n",
       "2804        12\n",
       "2713        12\n",
       "3300        15\n",
       "3228        18\n",
       "2724        19\n",
       "1248        20\n",
       "2928        21\n",
       "2594        21\n",
       "         ...  \n",
       "993        202\n",
       "1281       206\n",
       "2857       220\n",
       "973        237\n",
       "3036       301\n",
       "2868       337\n",
       "2970       394\n",
       "2859       416\n",
       "1028       420\n",
       "1116       429\n",
       "2632       439\n",
       "924        447\n",
       "2684       513\n",
       "969        609\n",
       "1092       633\n",
       "1068       635\n",
       "950        669\n",
       "1080       944\n",
       "2898      1036\n",
       "1073      1081\n",
       "879       1328\n",
       "2736      1361\n",
       "1164      1640\n",
       "1048      1750\n",
       "1152      1892\n",
       "1011      2481\n",
       "1031      2874\n",
       "1114      6360\n",
       "1102      7810\n",
       "0       477300\n",
       "Name: Annual_Premium_AXAP, dtype: int64"
      ]
     },
     "execution_count": 39,
     "metadata": {},
     "output_type": "execute_result"
    }
   ],
   "source": [
    "lloss['Annual_Premium_AXAP'].value_counts().sort_values()"
   ]
  },
  {
   "cell_type": "code",
   "execution_count": 40,
   "metadata": {
    "collapsed": false
   },
   "outputs": [
    {
     "data": {
      "text/plain": [
       "3300"
      ]
     },
     "execution_count": 40,
     "metadata": {},
     "output_type": "execute_result"
    }
   ],
   "source": [
    "lloss['Annual_Premium_AXAP'].max()"
   ]
  },
  {
   "cell_type": "markdown",
   "metadata": {},
   "source": [
    "#\"Annual_Premium_AXAP\"\n",
    "\n",
    "- definition: Anshin plus\n",
    "    \n",
    "- what does \"Anshin plus\" mean?\n",
    "\n",
    "- \"0\" appear most"
   ]
  },
  {
   "cell_type": "code",
   "execution_count": 41,
   "metadata": {
    "collapsed": false
   },
   "outputs": [
    {
     "data": {
      "text/plain": [
       "216       171\n",
       "129       274\n",
       "132       349\n",
       "205       520\n",
       "144       779\n",
       "142      1382\n",
       "180      1938\n",
       "192      2227\n",
       "288      2546\n",
       "167      3142\n",
       "170      3759\n",
       "183      8040\n",
       "279      9867\n",
       "0      483083\n",
       "Name: Annual_Premium_PSE, dtype: int64"
      ]
     },
     "execution_count": 41,
     "metadata": {},
     "output_type": "execute_result"
    }
   ],
   "source": [
    "lloss['Annual_Premium_PSE'].value_counts().sort_values()"
   ]
  },
  {
   "cell_type": "code",
   "execution_count": 42,
   "metadata": {
    "collapsed": false
   },
   "outputs": [
    {
     "data": {
      "text/plain": [
       "288"
      ]
     },
     "execution_count": 42,
     "metadata": {},
     "output_type": "execute_result"
    }
   ],
   "source": [
    "lloss['Annual_Premium_PSE'].max()"
   ]
  },
  {
   "cell_type": "code",
   "execution_count": 43,
   "metadata": {
    "collapsed": false
   },
   "outputs": [
    {
     "data": {
      "text/plain": [
       "1776       244\n",
       "1812       246\n",
       "1848       600\n",
       "1687       641\n",
       "1944       733\n",
       "1720       826\n",
       "1856      1825\n",
       "1757      1947\n",
       "0       511015\n",
       "Name: Annual_Premium_PPD, dtype: int64"
      ]
     },
     "execution_count": 43,
     "metadata": {},
     "output_type": "execute_result"
    }
   ],
   "source": [
    "lloss['Annual_Premium_PPD'].value_counts().sort_values()"
   ]
  },
  {
   "cell_type": "code",
   "execution_count": 44,
   "metadata": {
    "collapsed": false
   },
   "outputs": [
    {
     "data": {
      "text/plain": [
       "1944"
      ]
     },
     "execution_count": 44,
     "metadata": {},
     "output_type": "execute_result"
    }
   ],
   "source": [
    "lloss['Annual_Premium_PPD'].max()"
   ]
  },
  {
   "cell_type": "markdown",
   "metadata": {},
   "source": [
    "#\"Annual_Premium_PPD\"\n",
    "\n",
    "- almost \"0\""
   ]
  },
  {
   "cell_type": "code",
   "execution_count": 45,
   "metadata": {
    "collapsed": false
   },
   "outputs": [
    {
     "data": {
      "text/plain": [
       "816      1137\n",
       "828      1380\n",
       "732      3164\n",
       "900      3504\n",
       "778      4085\n",
       "794      4620\n",
       "859     11172\n",
       "700     11715\n",
       "0      477300\n",
       "Name: Annual_Premium_PL, dtype: int64"
      ]
     },
     "execution_count": 45,
     "metadata": {},
     "output_type": "execute_result"
    }
   ],
   "source": [
    "lloss['Annual_Premium_PL'].value_counts().sort_values()"
   ]
  },
  {
   "cell_type": "code",
   "execution_count": 46,
   "metadata": {
    "collapsed": false
   },
   "outputs": [
    {
     "data": {
      "text/plain": [
       "900"
      ]
     },
     "execution_count": 46,
     "metadata": {},
     "output_type": "execute_result"
    }
   ],
   "source": [
    "lloss['Annual_Premium_PL'].max()"
   ]
  },
  {
   "cell_type": "code",
   "execution_count": 47,
   "metadata": {
    "collapsed": false
   },
   "outputs": [
    {
     "data": {
      "text/plain": [
       "132      2334\n",
       "66       2943\n",
       "67       3447\n",
       "123      8932\n",
       "72      12370\n",
       "0      488051\n",
       "Name: Annual_Premium_HK, dtype: int64"
      ]
     },
     "execution_count": 47,
     "metadata": {},
     "output_type": "execute_result"
    }
   ],
   "source": [
    "lloss['Annual_Premium_HK'].value_counts().sort_values()"
   ]
  },
  {
   "cell_type": "code",
   "execution_count": 48,
   "metadata": {
    "collapsed": false
   },
   "outputs": [
    {
     "data": {
      "text/plain": [
       "132"
      ]
     },
     "execution_count": 48,
     "metadata": {},
     "output_type": "execute_result"
    }
   ],
   "source": [
    "lloss['Annual_Premium_HK'].max()"
   ]
  },
  {
   "cell_type": "code",
   "execution_count": 49,
   "metadata": {
    "collapsed": false
   },
   "outputs": [
    {
     "data": {
      "text/plain": [
       "1485         1\n",
       "1726         1\n",
       "2360         1\n",
       "1593         1\n",
       "2083         1\n",
       "2748         1\n",
       "1508         1\n",
       "1486         1\n",
       "1599         1\n",
       "2868         1\n",
       "1793         1\n",
       "1701         1\n",
       "2033         1\n",
       "1901         1\n",
       "103          1\n",
       "1784         1\n",
       "1551         1\n",
       "1925         1\n",
       "1790         1\n",
       "1397         1\n",
       "1847         1\n",
       "1473         1\n",
       "1729         1\n",
       "1326         1\n",
       "2048         1\n",
       "1837         1\n",
       "2484         1\n",
       "1994         1\n",
       "2856         1\n",
       "1565         1\n",
       "         ...  \n",
       "624       1532\n",
       "288       1611\n",
       "612       1619\n",
       "600       1620\n",
       "588       1692\n",
       "576       1698\n",
       "564       1763\n",
       "300       1768\n",
       "312       1839\n",
       "552       1891\n",
       "324       1903\n",
       "528       1915\n",
       "540       1947\n",
       "336       2042\n",
       "516       2115\n",
       "504       2152\n",
       "432       2276\n",
       "492       2280\n",
       "348       2293\n",
       "444       2296\n",
       "468       2328\n",
       "384       2352\n",
       "360       2359\n",
       "420       2371\n",
       "456       2394\n",
       "396       2394\n",
       "372       2406\n",
       "408       2419\n",
       "480       2436\n",
       "0       151642\n",
       "Name: Annual_Premium_PE, dtype: int64"
      ]
     },
     "execution_count": 49,
     "metadata": {},
     "output_type": "execute_result"
    }
   ],
   "source": [
    "lloss['Annual_Premium_PE'].value_counts().sort_values()"
   ]
  },
  {
   "cell_type": "code",
   "execution_count": 50,
   "metadata": {
    "collapsed": false
   },
   "outputs": [
    {
     "data": {
      "text/plain": [
       "3780"
      ]
     },
     "execution_count": 50,
     "metadata": {},
     "output_type": "execute_result"
    }
   ],
   "source": [
    "lloss['Annual_Premium_PE'].max()"
   ]
  },
  {
   "cell_type": "code",
   "execution_count": 51,
   "metadata": {
    "collapsed": false
   },
   "outputs": [
    {
     "data": {
      "text/plain": [
       "1572         5\n",
       "1500        15\n",
       "2100        36\n",
       "3156        48\n",
       "4728        52\n",
       "2500        52\n",
       "2000        65\n",
       "3000        73\n",
       "3672        78\n",
       "2628        80\n",
       "3500        95\n",
       "4000        97\n",
       "4200       110\n",
       "4500       132\n",
       "5256      1726\n",
       "5000      4115\n",
       "0       511298\n",
       "Name: Annual_Premium_EQ, dtype: int64"
      ]
     },
     "execution_count": 51,
     "metadata": {},
     "output_type": "execute_result"
    }
   ],
   "source": [
    "lloss['Annual_Premium_EQ'].value_counts().sort_values()"
   ]
  },
  {
   "cell_type": "code",
   "execution_count": 52,
   "metadata": {
    "collapsed": false
   },
   "outputs": [
    {
     "data": {
      "text/plain": [
       "5256"
      ]
     },
     "execution_count": 52,
     "metadata": {},
     "output_type": "execute_result"
    }
   ],
   "source": [
    "lloss['Annual_Premium_EQ'].max()"
   ]
  },
  {
   "cell_type": "markdown",
   "metadata": {},
   "source": [
    "#recap:\n",
    "- ['Annual_Premium_BIL'] (bodily injury liability): no value '0'    \n",
    "- ['Annual_Premium_PDL'] (property damage liability): no value '0'\n",
    "- others, '0' appears most frequently"
   ]
  },
  {
   "cell_type": "markdown",
   "metadata": {},
   "source": [
    "# feature: 'Coverage'"
   ]
  },
  {
   "cell_type": "code",
   "execution_count": 53,
   "metadata": {
    "collapsed": false
   },
   "outputs": [
    {
     "data": {
      "text/plain": [
       "0    151646\n",
       "1    366431\n",
       "Name: OD_Coverage, dtype: int64"
      ]
     },
     "execution_count": 53,
     "metadata": {},
     "output_type": "execute_result"
    }
   ],
   "source": [
    "#own damage \n",
    "lloss['OD_Coverage'].value_counts().sort_values()"
   ]
  },
  {
   "cell_type": "code",
   "execution_count": 54,
   "metadata": {
    "collapsed": false
   },
   "outputs": [
    {
     "data": {
      "text/plain": [
       "0     27662\n",
       "1    490415\n",
       "Name: PPA_Coverage, dtype: int64"
      ]
     },
     "execution_count": 54,
     "metadata": {},
     "output_type": "execute_result"
    }
   ],
   "source": [
    "#passenger's personal accident\n",
    "lloss['PPA_Coverage'].value_counts().sort_values()"
   ]
  },
  {
   "cell_type": "code",
   "execution_count": 55,
   "metadata": {
    "collapsed": false
   },
   "outputs": [
    {
     "data": {
      "text/plain": [
       "0     89207\n",
       "1    428870\n",
       "Name: PI_Coverage, dtype: int64"
      ]
     },
     "execution_count": 55,
     "metadata": {},
     "output_type": "execute_result"
    }
   ],
   "source": [
    "#personal injury\n",
    "lloss['PI_Coverage'].value_counts().sort_values()"
   ]
  },
  {
   "cell_type": "code",
   "execution_count": 56,
   "metadata": {
    "collapsed": false
   },
   "outputs": [
    {
     "data": {
      "text/plain": [
       "1     42981\n",
       "0    475096\n",
       "Name: FB_Coverage, dtype: int64"
      ]
     },
     "execution_count": 56,
     "metadata": {},
     "output_type": "execute_result"
    }
   ],
   "source": [
    "#family bike\n",
    "lloss['FB_Coverage'].value_counts().sort_values()"
   ]
  },
  {
   "cell_type": "code",
   "execution_count": 57,
   "metadata": {
    "collapsed": false
   },
   "outputs": [
    {
     "data": {
      "text/plain": [
       "1    130719\n",
       "0    387358\n",
       "Name: LE_Coverage, dtype: int64"
      ]
     },
     "execution_count": 57,
     "metadata": {},
     "output_type": "execute_result"
    }
   ],
   "source": [
    "# lawyer expense\n",
    "lloss['LE_Coverage'].value_counts().sort_values()"
   ]
  },
  {
   "cell_type": "code",
   "execution_count": 58,
   "metadata": {
    "collapsed": false
   },
   "outputs": [
    {
     "data": {
      "text/plain": [
       "1     85835\n",
       "0    432242\n",
       "Name: PDL_Special_Coverage, dtype: int64"
      ]
     },
     "execution_count": 58,
     "metadata": {},
     "output_type": "execute_result"
    }
   ],
   "source": [
    "#property damage specical\n",
    "lloss['PDL_Special_Coverage'].value_counts().sort_values()"
   ]
  },
  {
   "cell_type": "code",
   "execution_count": 59,
   "metadata": {
    "collapsed": false
   },
   "outputs": [
    {
     "data": {
      "text/plain": [
       "1      6779\n",
       "0    511298\n",
       "Name: EQ_Coverage, dtype: int64"
      ]
     },
     "execution_count": 59,
     "metadata": {},
     "output_type": "execute_result"
    }
   ],
   "source": [
    "# earthquake option\n",
    "lloss['EQ_Coverage'].value_counts().sort_values()"
   ]
  },
  {
   "cell_type": "markdown",
   "metadata": {},
   "source": [
    "# feature: 'Anshin_Plus' related"
   ]
  },
  {
   "cell_type": "code",
   "execution_count": 60,
   "metadata": {
    "collapsed": false
   },
   "outputs": [
    {
     "data": {
      "text/plain": [
       "1     40777\n",
       "0    477300\n",
       "Name: Anshin_Plus, dtype: int64"
      ]
     },
     "execution_count": 60,
     "metadata": {},
     "output_type": "execute_result"
    }
   ],
   "source": [
    "lloss['Anshin_Plus'].value_counts().sort_values()"
   ]
  },
  {
   "cell_type": "code",
   "execution_count": 61,
   "metadata": {
    "collapsed": false
   },
   "outputs": [
    {
     "data": {
      "text/plain": [
       "1      7062\n",
       "0    511015\n",
       "Name: Anshin_Plus_Ladies, dtype: int64"
      ]
     },
     "execution_count": 61,
     "metadata": {},
     "output_type": "execute_result"
    }
   ],
   "source": [
    "lloss['Anshin_Plus_Ladies'].value_counts().sort_values()"
   ]
  },
  {
   "cell_type": "code",
   "execution_count": 62,
   "metadata": {
    "collapsed": false
   },
   "outputs": [
    {
     "data": {
      "text/plain": [
       "1      7061\n",
       "0    511016\n",
       "Name: Anshin_Plus_Pet, dtype: int64"
      ]
     },
     "execution_count": 62,
     "metadata": {},
     "output_type": "execute_result"
    }
   ],
   "source": [
    "lloss['Anshin_Plus_Pet'].value_counts().sort_values()"
   ]
  },
  {
   "cell_type": "code",
   "execution_count": 63,
   "metadata": {
    "collapsed": false
   },
   "outputs": [
    {
     "data": {
      "text/plain": [
       "1     30026\n",
       "0    488051\n",
       "Name: Anshin_Plus_Family, dtype: int64"
      ]
     },
     "execution_count": 63,
     "metadata": {},
     "output_type": "execute_result"
    }
   ],
   "source": [
    "lloss['Anshin_Plus_Family'].value_counts().sort_values()"
   ]
  },
  {
   "cell_type": "markdown",
   "metadata": {},
   "source": [
    "# Car related"
   ]
  },
  {
   "cell_type": "code",
   "execution_count": 64,
   "metadata": {
    "collapsed": false
   },
   "outputs": [
    {
     "data": {
      "text/plain": [
       "6        53\n",
       "4      2441\n",
       "5      7993\n",
       "3    120775\n",
       "1    166886\n",
       "2    219929\n",
       "Name: Car_Type, dtype: int64"
      ]
     },
     "execution_count": 64,
     "metadata": {},
     "output_type": "execute_result"
    }
   ],
   "source": [
    "lloss['Car_Type'].value_counts().sort_values()"
   ]
  },
  {
   "cell_type": "code",
   "execution_count": 65,
   "metadata": {
    "collapsed": false
   },
   "outputs": [
    {
     "data": {
      "text/plain": [
       "VH                 1\n",
       "SW2H41             1\n",
       "ｸﾗｳﾝｺﾝﾌｵ-ﾄ         1\n",
       "YR25V              1\n",
       "LN61V              1\n",
       "ﾌﾟﾗｳﾃﾞｲｱ           1\n",
       "KR2                1\n",
       "DB234IK            1\n",
       "BF5V               1\n",
       "L70S               1\n",
       "NCP122             1\n",
       "SJ30               1\n",
       "L70V               1\n",
       "YY61               1\n",
       "PJC22              1\n",
       "DB71T              1\n",
       "PZJ77V             1\n",
       "ﾃﾙｽﾀ-2             1\n",
       "ﾋﾟｱﾂﾂｱ             1\n",
       "EE107V             1\n",
       "X-90               1\n",
       "LH85               1\n",
       "ﾗﾝﾁｱ               1\n",
       "ﾌﾟﾚﾂｿ              1\n",
       "ﾌﾟﾛｼ-ﾄﾞ            1\n",
       "NT100ｸﾘﾂﾊﾟ-        1\n",
       "DA71V              1\n",
       "PG6SS              1\n",
       "KR27V              1\n",
       "CR36V              1\n",
       "               ...  \n",
       "ｸﾗｳﾝ            4353\n",
       "ﾓｺ              4479\n",
       "ｽｲﾌﾄ            4764\n",
       "ｽﾄﾘ-ﾑ           4783\n",
       "ﾊﾟﾂｿ            4832\n",
       "ﾚｶﾞｼｲ           5568\n",
       "ｼｴﾝﾀ            5595\n",
       "BB              5786\n",
       "ｳｲﾂｼﾕ           5808\n",
       "ﾉ-ﾄ             5988\n",
       "ﾒﾙｾﾃﾞｽﾍﾞﾝﾂ      6203\n",
       "ｵﾃﾞﾂｾｲ          6576\n",
       "ﾌﾘ-ﾄﾞ           6961\n",
       "ﾏ-ﾁ             7234\n",
       "ﾌｵﾙｸｽﾜ-ｹﾞﾝ      8004\n",
       "BMW             8016\n",
       "ﾃﾞﾐｵ            8870\n",
       "ﾐﾗ              9140\n",
       "ﾗｲﾌ             9149\n",
       "ｱﾙﾄ             9395\n",
       "ｾﾚﾅ             9517\n",
       "ﾀﾝﾄ             9706\n",
       "ｷﾕ-ﾌﾞ          10183\n",
       "ｳﾞｲﾂﾂ          10952\n",
       "ｽﾃﾂﾌﾟﾜｺﾞﾝ      10967\n",
       "ｳﾞｵｸｼ-         12504\n",
       "ﾑ-ｳﾞ           15367\n",
       "ﾌﾟﾘｳｽ          17785\n",
       "ﾜｺﾞﾝR          17878\n",
       "ﾌｲﾂﾄ           25164\n",
       "Name: Car_Name, dtype: int64"
      ]
     },
     "execution_count": 65,
     "metadata": {},
     "output_type": "execute_result"
    }
   ],
   "source": [
    "lloss['Car_Name'].value_counts().sort_values()"
   ]
  },
  {
   "cell_type": "code",
   "execution_count": 66,
   "metadata": {
    "collapsed": false
   },
   "outputs": [
    {
     "data": {
      "text/plain": [
       "45        1\n",
       "77        1\n",
       "68        1\n",
       "34        1\n",
       "43        1\n",
       "35        1\n",
       "55        1\n",
       "41        2\n",
       "36        2\n",
       "52        2\n",
       "80        2\n",
       "69        2\n",
       "40        3\n",
       "67        3\n",
       "44        3\n",
       "39        3\n",
       "42        3\n",
       "71        3\n",
       "31        4\n",
       "26        4\n",
       "32        4\n",
       "70        4\n",
       "46        4\n",
       "75        5\n",
       "72        5\n",
       "74        6\n",
       "76        6\n",
       "73        7\n",
       "30        7\n",
       "37       11\n",
       "27       11\n",
       "29       11\n",
       "28       17\n",
       "25       29\n",
       "24       59\n",
       "23      117\n",
       "22      228\n",
       "21      392\n",
       "20      510\n",
       "19      969\n",
       "18     1642\n",
       "17     2523\n",
       "16     4204\n",
       "15     6246\n",
       "14     9450\n",
       "13    13311\n",
       "12    17578\n",
       "11    22099\n",
       "10    27032\n",
       "9     32108\n",
       "8     37368\n",
       "2     38840\n",
       "1     39553\n",
       "3     39858\n",
       "7     40826\n",
       "4     41629\n",
       "5     41701\n",
       "6     42879\n",
       "0     56785\n",
       "Name: Car_Age, dtype: int64"
      ]
     },
     "execution_count": 66,
     "metadata": {},
     "output_type": "execute_result"
    }
   ],
   "source": [
    "lloss['Car_Age'].value_counts().sort_values()"
   ]
  },
  {
   "cell_type": "markdown",
   "metadata": {},
   "source": [
    "# Insured_related"
   ]
  },
  {
   "cell_type": "code",
   "execution_count": 67,
   "metadata": {
    "collapsed": false
   },
   "outputs": [
    {
     "data": {
      "text/plain": [
       "2    215848\n",
       "1    302229\n",
       "Name: Insured_Sex, dtype: int64"
      ]
     },
     "execution_count": 67,
     "metadata": {},
     "output_type": "execute_result"
    }
   ],
   "source": [
    "lloss['Insured_Sex'].value_counts().sort_values()"
   ]
  },
  {
   "cell_type": "code",
   "execution_count": 68,
   "metadata": {
    "collapsed": false
   },
   "outputs": [
    {
     "data": {
      "text/plain": [
       "98        1\n",
       "96        1\n",
       "93        2\n",
       "94        3\n",
       "92       12\n",
       "91       16\n",
       "90       31\n",
       "89       66\n",
       "17      122\n",
       "88      126\n",
       "87      152\n",
       "86      235\n",
       "85      337\n",
       "84      486\n",
       "83      645\n",
       "82      864\n",
       "81     1117\n",
       "80     1306\n",
       "79     1542\n",
       "18     1635\n",
       "19     1793\n",
       "78     2011\n",
       "20     2108\n",
       "77     2381\n",
       "21     2555\n",
       "76     2668\n",
       "75     3106\n",
       "22     3127\n",
       "74     3505\n",
       "23     3865\n",
       "      ...  \n",
       "54     7703\n",
       "64     7719\n",
       "62     7874\n",
       "53     8081\n",
       "63     8310\n",
       "52     8414\n",
       "51     8428\n",
       "50     8692\n",
       "28     8732\n",
       "49     9054\n",
       "48     9295\n",
       "47     9648\n",
       "46    10449\n",
       "45    10508\n",
       "29    10549\n",
       "44    11507\n",
       "30    11755\n",
       "43    12682\n",
       "31    12789\n",
       "42    13620\n",
       "41    14345\n",
       "32    14354\n",
       "40    15465\n",
       "33    15715\n",
       "39    16667\n",
       "34    16860\n",
       "35    17354\n",
       "38    17552\n",
       "36    17752\n",
       "37    17872\n",
       "Name: Insured_Age, dtype: int64"
      ]
     },
     "execution_count": 68,
     "metadata": {},
     "output_type": "execute_result"
    }
   ],
   "source": [
    "lloss['Insured_Age'].value_counts().sort_values()"
   ]
  },
  {
   "cell_type": "code",
   "execution_count": 69,
   "metadata": {
    "collapsed": false
   },
   "outputs": [
    {
     "data": {
      "text/plain": [
       "00-19      3550\n",
       "20-29     54013\n",
       "50-59     76923\n",
       "60-      108348\n",
       "40-49    116573\n",
       "30-39    158670\n",
       "Name: Insured_Age_Range, dtype: int64"
      ]
     },
     "execution_count": 69,
     "metadata": {},
     "output_type": "execute_result"
    }
   ],
   "source": [
    "lloss['Insured_Age_Range'].value_counts().sort_values()"
   ]
  },
  {
   "cell_type": "code",
   "execution_count": 70,
   "metadata": {
    "collapsed": false
   },
   "outputs": [
    {
     "data": {
      "text/plain": [
       "(06) 四国        6631\n",
       "(01) 北海道      10878\n",
       "(07) 九州       53479\n",
       "(04) 北陸東海     55961\n",
       "(02) 東北       59784\n",
       "(05) 近畿中国     66936\n",
       "(03) 関東      264408\n",
       "Name: Region, dtype: int64"
      ]
     },
     "execution_count": 70,
     "metadata": {},
     "output_type": "execute_result"
    }
   ],
   "source": [
    "lloss['Region'].value_counts().sort_values()"
   ]
  },
  {
   "cell_type": "code",
   "execution_count": 71,
   "metadata": {
    "collapsed": false
   },
   "outputs": [
    {
     "data": {
      "text/plain": [
       "島根県       786\n",
       "鳥取県       962\n",
       "高知県      1097\n",
       "沖縄県      1211\n",
       "徳島県      1267\n",
       "和歌山県     1737\n",
       "福井県      2057\n",
       "香川県      2109\n",
       "愛媛県      2158\n",
       "山口県      2404\n",
       "佐賀県      2410\n",
       "富山県      2667\n",
       "宮崎県      2668\n",
       "石川県      3389\n",
       "滋賀県      3501\n",
       "大分県      3670\n",
       "奈良県      3689\n",
       "長崎県      3816\n",
       "鹿児島県     3904\n",
       "岡山県      3968\n",
       "山梨県      3979\n",
       "秋田県      4981\n",
       "岐阜県      5090\n",
       "三重県      5250\n",
       "京都府      5928\n",
       "青森県      6218\n",
       "長野県      6521\n",
       "岩手県      6663\n",
       "新潟県      6665\n",
       "広島県      6829\n",
       "熊本県      6886\n",
       "山形県      8253\n",
       "栃木県      8973\n",
       "群馬県      9311\n",
       "北海道     10878\n",
       "静岡県     12248\n",
       "福島県     13157\n",
       "兵庫県     15662\n",
       "茨城県     15792\n",
       "宮城県     20512\n",
       "大阪府     21470\n",
       "愛知県     25260\n",
       "福岡県     28914\n",
       "千葉県     48021\n",
       "埼玉県     52336\n",
       "東京都     55527\n",
       "神奈川県    57283\n",
       "Name: Prefecture, dtype: int64"
      ]
     },
     "execution_count": 71,
     "metadata": {},
     "output_type": "execute_result"
    }
   ],
   "source": [
    "lloss['Prefecture'].value_counts().sort_values()"
   ]
  },
  {
   "cell_type": "markdown",
   "metadata": {},
   "source": [
    "# other features"
   ]
  },
  {
   "cell_type": "code",
   "execution_count": 72,
   "metadata": {
    "collapsed": false
   },
   "outputs": [
    {
     "data": {
      "text/plain": [
       "9        1958\n",
       "11       2307\n",
       "10      12086\n",
       "999     81956\n",
       "3      168804\n",
       "1      250966\n",
       "Name: Payment_Method, dtype: int64"
      ]
     },
     "execution_count": 72,
     "metadata": {},
     "output_type": "execute_result"
    }
   ],
   "source": [
    "lloss['Payment_Method'].value_counts().sort_values()"
   ]
  },
  {
   "cell_type": "markdown",
   "metadata": {},
   "source": [
    "#definition:\n",
    "\n",
    "- \"1\": \"credit card\"\n",
    "\n",
    "- \"3\": \"Offline CVS (convenience store)\"\n",
    "    \n",
    "- \"9\": \"NTT-if\"\n",
    "\n",
    "- \"10\": \"Online CVS\"\n",
    "    \n",
    "- \"11\": \"Net-Bank\"\n",
    "    \n",
    "- \"999\": \"unknown\""
   ]
  },
  {
   "cell_type": "code",
   "execution_count": 73,
   "metadata": {
    "collapsed": false
   },
   "outputs": [
    {
     "data": {
      "text/plain": [
       "7    126490\n",
       "5    391587\n",
       "Name: Payment_Type1, dtype: int64"
      ]
     },
     "execution_count": 73,
     "metadata": {},
     "output_type": "execute_result"
    }
   ],
   "source": [
    "lloss['Payment_Type1'].value_counts().sort_values()"
   ]
  },
  {
   "cell_type": "markdown",
   "metadata": {},
   "source": [
    "#definition:\n",
    "\n",
    "- \"5\": \"paid full at once\"\n",
    "    \n",
    "- \"7\": \"installment\""
   ]
  },
  {
   "cell_type": "code",
   "execution_count": 74,
   "metadata": {
    "collapsed": false
   },
   "outputs": [
    {
     "data": {
      "text/plain": [
       "1    256707\n",
       "0    261370\n",
       "Name: Internet_Discount, dtype: int64"
      ]
     },
     "execution_count": 74,
     "metadata": {},
     "output_type": "execute_result"
    }
   ],
   "source": [
    "lloss['Internet_Discount'].value_counts().sort_values()"
   ]
  },
  {
   "cell_type": "code",
   "execution_count": 75,
   "metadata": {
    "collapsed": false
   },
   "outputs": [
    {
     "data": {
      "text/plain": [
       "2     77375\n",
       "1    151642\n",
       "3    289060\n",
       "Name: OD_Type, dtype: int64"
      ]
     },
     "execution_count": 75,
     "metadata": {},
     "output_type": "execute_result"
    }
   ],
   "source": [
    "#own damage type - ['OD_Coverage']\n",
    "lloss['OD_Type'].value_counts().sort_values()"
   ]
  },
  {
   "cell_type": "code",
   "execution_count": 76,
   "metadata": {
    "collapsed": false
   },
   "outputs": [
    {
     "data": {
      "text/plain": [
       "(04) 20m           21790\n",
       "(03) 10m           38125\n",
       "(01) Unlimited    458162\n",
       "Name: PDL_Limit, dtype: int64"
      ]
     },
     "execution_count": 76,
     "metadata": {},
     "output_type": "execute_result"
    }
   ],
   "source": [
    "# property damage coverage limit\n",
    "lloss['PDL_Limit'].value_counts().sort_values()"
   ]
  },
  {
   "cell_type": "code",
   "execution_count": 77,
   "metadata": {
    "collapsed": false
   },
   "outputs": [
    {
     "data": {
      "text/plain": [
       "(06) 20m     23213\n",
       "(00) NO      27662\n",
       "(05) 15m     38505\n",
       "(03) 5m      82261\n",
       "(04) 10m    346436\n",
       "Name: PPA_Limit, dtype: int64"
      ]
     },
     "execution_count": 77,
     "metadata": {},
     "output_type": "execute_result"
    }
   ],
   "source": [
    "#passenger's personal accident coverage limit\n",
    "lloss['PPA_Limit'].value_counts().sort_values()"
   ]
  },
  {
   "cell_type": "code",
   "execution_count": 78,
   "metadata": {
    "collapsed": false,
    "scrolled": true
   },
   "outputs": [
    {
     "data": {
      "text/plain": [
       "(08) 90m              78\n",
       "(05) 60m             529\n",
       "(03) 40m            1400\n",
       "(06) 70m            6036\n",
       "(01) Unlimited      7160\n",
       "(09) 100m          26996\n",
       "(07) 80m           27942\n",
       "(00) NO            89207\n",
       "(04) 50m          160182\n",
       "(02) 30m          198547\n",
       "Name: PI_Limit, dtype: int64"
      ]
     },
     "execution_count": 78,
     "metadata": {},
     "output_type": "execute_result"
    }
   ],
   "source": [
    "# personal injury coverage limit\n",
    "lloss['PI_Limit'].value_counts().sort_values()"
   ]
  },
  {
   "cell_type": "code",
   "execution_count": 79,
   "metadata": {
    "collapsed": false
   },
   "outputs": [
    {
     "data": {
      "text/plain": [
       "2     32590\n",
       "1     89207\n",
       "3    396280\n",
       "Name: PI_Type, dtype: int64"
      ]
     },
     "execution_count": 79,
     "metadata": {},
     "output_type": "execute_result"
    }
   ],
   "source": [
    "# personal injury type\n",
    "lloss['PI_Type'].value_counts().sort_values()"
   ]
  },
  {
   "cell_type": "code",
   "execution_count": 80,
   "metadata": {
    "collapsed": false,
    "scrolled": true
   },
   "outputs": [
    {
     "data": {
      "text/plain": [
       "(07) 30% Deductible       237\n",
       "4                        2964\n",
       "5                       12358\n",
       "2                      110773\n",
       "6                      119940\n",
       "3                      120159\n",
       "1                      151646\n",
       "Name: Deduct, dtype: int64"
      ]
     },
     "execution_count": 80,
     "metadata": {},
     "output_type": "execute_result"
    }
   ],
   "source": [
    "lloss['Deduct'].value_counts().sort_values()"
   ]
  },
  {
   "cell_type": "code",
   "execution_count": 81,
   "metadata": {
    "collapsed": false,
    "scrolled": true
   },
   "outputs": [
    {
     "data": {
      "text/plain": [
       "0      3728\n",
       "1    514349\n",
       "Name: Automatic_Renewal, dtype: int64"
      ]
     },
     "execution_count": 81,
     "metadata": {},
     "output_type": "execute_result"
    }
   ],
   "source": [
    "lloss['Automatic_Renewal'].value_counts().sort_values()"
   ]
  },
  {
   "cell_type": "code",
   "execution_count": 82,
   "metadata": {
    "collapsed": false
   },
   "outputs": [
    {
     "data": {
      "text/plain": [
       "5      4432\n",
       "1     22530\n",
       "2     46430\n",
       "3     62999\n",
       "4    381686\n",
       "Name: Age_Restriction, dtype: int64"
      ]
     },
     "execution_count": 82,
     "metadata": {},
     "output_type": "execute_result"
    }
   ],
   "source": [
    "lloss['Age_Restriction'].value_counts().sort_values()"
   ]
  },
  {
   "cell_type": "code",
   "execution_count": 83,
   "metadata": {
    "collapsed": false
   },
   "outputs": [
    {
     "data": {
      "text/plain": [
       "3     42823\n",
       "2     66435\n",
       "0    146856\n",
       "1    261963\n",
       "Name: Family_Restriction, dtype: int64"
      ]
     },
     "execution_count": 83,
     "metadata": {},
     "output_type": "execute_result"
    }
   ],
   "source": [
    "lloss['Family_Restriction'].value_counts().sort_values()"
   ]
  },
  {
   "cell_type": "code",
   "execution_count": 84,
   "metadata": {
    "collapsed": false
   },
   "outputs": [
    {
     "data": {
      "text/plain": [
       "(01) AUTO    518077\n",
       "Name: Tariff, dtype: int64"
      ]
     },
     "execution_count": 84,
     "metadata": {},
     "output_type": "execute_result"
    }
   ],
   "source": [
    "lloss['Tariff'].value_counts().sort_values()"
   ]
  },
  {
   "cell_type": "code",
   "execution_count": 85,
   "metadata": {
    "collapsed": false
   },
   "outputs": [
    {
     "data": {
      "text/plain": [
       "1           435\n",
       "2          1251\n",
       "3          4098\n",
       "4          6417\n",
       "5          7823\n",
       "07New      8405\n",
       "06F       13341\n",
       "19        18733\n",
       "16        22145\n",
       "18        22540\n",
       "15        24492\n",
       "14        25896\n",
       "17        26135\n",
       "06New     26541\n",
       "13        26874\n",
       "07F       26979\n",
       "12        27807\n",
       "11        28744\n",
       "10        29180\n",
       "9         29655\n",
       "8         31137\n",
       "20       109449\n",
       "Name: Bonus_Malus, dtype: int64"
      ]
     },
     "execution_count": 85,
     "metadata": {},
     "output_type": "execute_result"
    }
   ],
   "source": [
    "lloss['Bonus_Malus'].value_counts().sort_values()"
   ]
  },
  {
   "cell_type": "code",
   "execution_count": 86,
   "metadata": {
    "collapsed": false
   },
   "outputs": [
    {
     "data": {
      "text/plain": [
       "01_05        20024\n",
       "06_07New     34946\n",
       "06_09       101112\n",
       "20          109449\n",
       "15_19       114045\n",
       "10_14       138501\n",
       "Name: Bonus_Malus_Range, dtype: int64"
      ]
     },
     "execution_count": 86,
     "metadata": {},
     "output_type": "execute_result"
    }
   ],
   "source": [
    "lloss['Bonus_Malus_Range'].value_counts().sort_values()"
   ]
  },
  {
   "cell_type": "code",
   "execution_count": 87,
   "metadata": {
    "collapsed": false,
    "scrolled": false
   },
   "outputs": [
    {
     "data": {
      "text/plain": [
       "1      7618\n",
       "2    209341\n",
       "3    301118\n",
       "Name: License_Color, dtype: int64"
      ]
     },
     "execution_count": 87,
     "metadata": {},
     "output_type": "execute_result"
    }
   ],
   "source": [
    "lloss['License_Color'].value_counts().sort_values()"
   ]
  },
  {
   "cell_type": "code",
   "execution_count": 88,
   "metadata": {
    "collapsed": false
   },
   "outputs": [
    {
     "data": {
      "text/plain": [
       "3     59103\n",
       "2    190844\n",
       "1    268130\n",
       "Name: Mileage, dtype: int64"
      ]
     },
     "execution_count": 88,
     "metadata": {},
     "output_type": "execute_result"
    }
   ],
   "source": [
    "lloss['Mileage'].value_counts().sort_values()"
   ]
  },
  {
   "cell_type": "code",
   "execution_count": 89,
   "metadata": {
    "collapsed": false
   },
   "outputs": [
    {
     "data": {
      "text/plain": [
       "1      8559\n",
       "3    137350\n",
       "2    372168\n",
       "Name: Usage, dtype: int64"
      ]
     },
     "execution_count": 89,
     "metadata": {},
     "output_type": "execute_result"
    }
   ],
   "source": [
    "lloss['Usage'].value_counts().sort_values()"
   ]
  },
  {
   "cell_type": "code",
   "execution_count": 90,
   "metadata": {
    "collapsed": false
   },
   "outputs": [
    {
     "data": {
      "text/plain": [
       "1     40679\n",
       "0    477398\n",
       "Name: Previous_Accidents, dtype: int64"
      ]
     },
     "execution_count": 90,
     "metadata": {},
     "output_type": "execute_result"
    }
   ],
   "source": [
    "lloss['Previous_Accidents'].value_counts().sort_values()"
   ]
  },
  {
   "cell_type": "code",
   "execution_count": 91,
   "metadata": {
    "collapsed": false
   },
   "outputs": [
    {
     "data": {
      "text/plain": [
       "(01) Direct        117928\n",
       "(99) New           151298\n",
       "(02) Non Direct    248808\n",
       "Name: Prev_Insurer_Category, dtype: int64"
      ]
     },
     "execution_count": 91,
     "metadata": {},
     "output_type": "execute_result"
    }
   ],
   "source": [
    "lloss['Prev_Insurer_Category'].value_counts().sort_values()"
   ]
  },
  {
   "cell_type": "code",
   "execution_count": 92,
   "metadata": {
    "collapsed": false,
    "scrolled": true
   },
   "outputs": [
    {
     "data": {
      "text/plain": [
       "Database marketing        28\n",
       "(08) Banc                774\n",
       "(04) Fax                1598\n",
       "(09) MGM                5128\n",
       "(07) Agent             27928\n",
       "(06) Axa Life          51728\n",
       "(05) Re-quote          52695\n",
       "(03) Broker            80688\n",
       "(02) Internet          97626\n",
       "(01) Phone            199840\n",
       "Name: Original_Channel, dtype: int64"
      ]
     },
     "execution_count": 92,
     "metadata": {},
     "output_type": "execute_result"
    }
   ],
   "source": [
    "lloss['Original_Channel'].value_counts().sort_values()"
   ]
  },
  {
   "cell_type": "code",
   "execution_count": 93,
   "metadata": {
    "collapsed": false
   },
   "outputs": [
    {
     "data": {
      "text/plain": [
       "15         3\n",
       "14       522\n",
       "13      2095\n",
       "12      3941\n",
       "11      7228\n",
       "10     10938\n",
       "9      15038\n",
       "8      21129\n",
       "7      27079\n",
       "6      32217\n",
       "5      39192\n",
       "4      46163\n",
       "3      53242\n",
       "2      63546\n",
       "1      79070\n",
       "0     116674\n",
       "Name: Renewal_Times, dtype: int64"
      ]
     },
     "execution_count": 93,
     "metadata": {},
     "output_type": "execute_result"
    }
   ],
   "source": [
    "lloss['Renewal_Times'].value_counts().sort_values()"
   ]
  },
  {
   "cell_type": "markdown",
   "metadata": {},
   "source": [
    "# tranforming datatype"
   ]
  },
  {
   "cell_type": "code",
   "execution_count": 94,
   "metadata": {
    "collapsed": false
   },
   "outputs": [
    {
     "name": "stdout",
     "output_type": "stream",
     "text": [
      "<class 'pandas.core.frame.DataFrame'>\n",
      "RangeIndex: 518077 entries, 0 to 518076\n",
      "Data columns (total 73 columns):\n",
      "Event_Number              518077 non-null int64\n",
      "Claim_Number              462188 non-null float64\n",
      "Event_Occurrence_Month    518077 non-null object\n",
      "Inception_Month           518077 non-null object\n",
      "Issued_Date               518077 non-null object\n",
      "Issued_Time               518077 non-null object\n",
      "PI_Class                  518077 non-null float64\n",
      "IN_OUTPATIENT             518077 non-null float64\n",
      "Incurred                  518077 non-null int64\n",
      "EV_LARGE                  518077 non-null int64\n",
      "Contract_Status           517770 non-null float64\n",
      "Reason                    518077 non-null object\n",
      "Effective_Date            518077 non-null object\n",
      "Annual_Premium            518077 non-null int64\n",
      "Annual_Premium_BIL        518077 non-null int64\n",
      "Annual_Premium_PDL        518077 non-null int64\n",
      "Annual_Premium_PPA        518077 non-null int64\n",
      "Annual_Premium_PI         518077 non-null int64\n",
      "Annual_Premium_ODPE       518077 non-null int64\n",
      "Annual_Premium_OD         518077 non-null int64\n",
      "Annual_Premium_PE         518077 non-null int64\n",
      "Annual_Premium_FB         518077 non-null int64\n",
      "Annual_Premium_FBB        518077 non-null int64\n",
      "Annual_Premium_FBP        518077 non-null int64\n",
      "Annual_Premium_LE         518077 non-null int64\n",
      "Annual_Premium_AXAP       518077 non-null int64\n",
      "Annual_Premium_PSE        518077 non-null int64\n",
      "Annual_Premium_PPD        518077 non-null int64\n",
      "Annual_Premium_PL         518077 non-null int64\n",
      "Annual_Premium_HK         518077 non-null int64\n",
      "Annual_Premium_PET        518077 non-null int64\n",
      "Annual_Premium_EQ         518077 non-null int64\n",
      "Payment_Method            518077 non-null int64\n",
      "Payment_Type1             518077 non-null int64\n",
      "Internet_Discount         518077 non-null int64\n",
      "OD_Type                   518077 non-null int64\n",
      "PDL_Limit                 518077 non-null object\n",
      "OD_Coverage               518077 non-null int64\n",
      "Deduct                    518077 non-null object\n",
      "PPA_Coverage              518077 non-null int64\n",
      "PPA_Limit                 518077 non-null object\n",
      "PI_Coverage               518077 non-null int64\n",
      "PI_Limit                  518077 non-null object\n",
      "PI_Type                   518077 non-null int64\n",
      "FB_Coverage               518077 non-null int64\n",
      "LE_Coverage               518077 non-null int64\n",
      "PDL_Special_Coverage      518077 non-null int64\n",
      "Anshin_Plus               518077 non-null int64\n",
      "Anshin_Plus_Ladies        518077 non-null int64\n",
      "Anshin_Plus_Pet           518077 non-null int64\n",
      "Anshin_Plus_Family        518077 non-null int64\n",
      "Automatic_Renewal         518077 non-null int64\n",
      "Age_Restriction           518077 non-null int64\n",
      "Family_Restriction        518077 non-null int64\n",
      "EQ_Coverage               518077 non-null int64\n",
      "Tariff                    518077 non-null object\n",
      "Bonus_Malus               518077 non-null object\n",
      "Bonus_Malus_Range         518077 non-null object\n",
      "License_Color             518077 non-null int64\n",
      "Mileage                   518077 non-null int64\n",
      "Usage                     518077 non-null int64\n",
      "Car_Type                  518077 non-null int64\n",
      "Car_Name                  518077 non-null object\n",
      "Car_Age                   518077 non-null int64\n",
      "Previous_Accidents        518077 non-null int64\n",
      "Insured_Sex               518077 non-null int64\n",
      "Insured_Age               518077 non-null int64\n",
      "Insured_Age_Range         518077 non-null object\n",
      "Region                    518077 non-null object\n",
      "Prefecture                518077 non-null object\n",
      "Prev_Insurer_Category     518034 non-null object\n",
      "Original_Channel          518033 non-null object\n",
      "Renewal_Times             518077 non-null int64\n",
      "dtypes: float64(4), int64(50), object(19)\n",
      "memory usage: 288.5+ MB\n"
     ]
    }
   ],
   "source": [
    "lloss.info()"
   ]
  },
  {
   "cell_type": "markdown",
   "metadata": {
    "collapsed": true
   },
   "source": [
    "#Data type for each variable\n",
    "- float64: 4 variables\n",
    "    \n",
    "- int64: 50 variables\n",
    "\n",
    "- object: 19 variables\n",
    "\n",
    "so we'd better to transform datatype for following features:\n",
    "\n",
    "- 'PDL_Limit', 'Deduct', 'PPA_Limit', 'PI_Limit','Tariff','Bonus_Malus','Bonus_Malus_Range','Prev_Insurer_Category',\n",
    "\n",
    "- 'Original_Channel'\n",
    "\n",
    "- 'Insured_Age_Range' (unsolved)\n",
    "\n",
    "text data\n",
    "\n",
    "- 'Region'                  \n",
    "\n",
    "- 'Prefecture' \n",
    "\n",
    "- 'Car_Name '\n",
    "\n",
    "- 'Reason'\n",
    "\n",
    "Datetime\n",
    "- 'Event_Occurrence_Month'\n",
    "\n",
    "- 'Inception_Month'\n",
    "\n",
    "- 'Issued_Date'\n",
    "\n",
    "- 'Issued_Time'\n",
    "\n",
    "- 'Effective_Date'\n"
   ]
  },
  {
   "cell_type": "code",
   "execution_count": 95,
   "metadata": {
    "collapsed": false
   },
   "outputs": [],
   "source": [
    "lloss['PDL_Limit'] = lloss['PDL_Limit'].replace('(01) Unlimited', 1)\n",
    "lloss['PDL_Limit'] = lloss['PDL_Limit'].replace('(03) 10m', 3)\n",
    "lloss['PDL_Limit'] = lloss['PDL_Limit'].replace('(04) 20m', 4)"
   ]
  },
  {
   "cell_type": "code",
   "execution_count": 96,
   "metadata": {
    "collapsed": false
   },
   "outputs": [],
   "source": [
    "lloss['Deduct'] = lloss['Deduct'].replace('(07) 30% Deductible','7')"
   ]
  },
  {
   "cell_type": "code",
   "execution_count": 97,
   "metadata": {
    "collapsed": true
   },
   "outputs": [],
   "source": [
    "lloss['Deduct'] = lloss['Deduct'].astype(int)"
   ]
  },
  {
   "cell_type": "code",
   "execution_count": 98,
   "metadata": {
    "collapsed": true
   },
   "outputs": [],
   "source": [
    "def transform_dtype(feature,old_value,new_value):\n",
    "    lloss[feature] = lloss[feature].replace(old_value,new_value)\n",
    "    return type(lloss[feature].iloc[0])"
   ]
  },
  {
   "cell_type": "code",
   "execution_count": 99,
   "metadata": {
    "collapsed": false
   },
   "outputs": [
    {
     "data": {
      "text/plain": [
       "numpy.int64"
      ]
     },
     "execution_count": 99,
     "metadata": {},
     "output_type": "execute_result"
    }
   ],
   "source": [
    "transform_dtype('PPA_Limit',['(04) 10m','(03) 5m','(05) 15m','(00) NO','(06) 20m'], [4,3,5,0,6])"
   ]
  },
  {
   "cell_type": "code",
   "execution_count": 100,
   "metadata": {
    "collapsed": false
   },
   "outputs": [
    {
     "data": {
      "text/plain": [
       "numpy.int64"
      ]
     },
     "execution_count": 100,
     "metadata": {},
     "output_type": "execute_result"
    }
   ],
   "source": [
    "transform_dtype('PI_Limit',['(02) 30m','(04) 50m','(00) NO','(07) 80m','(09) 100m','(01) Unlimited','(06) 70m',\n",
    "                           '(03) 40m','(05) 60m','(08) 90m'], [2,4,0,7,9,1,6,3,5,8])"
   ]
  },
  {
   "cell_type": "code",
   "execution_count": 101,
   "metadata": {
    "collapsed": false
   },
   "outputs": [
    {
     "data": {
      "text/plain": [
       "numpy.int64"
      ]
     },
     "execution_count": 101,
     "metadata": {},
     "output_type": "execute_result"
    }
   ],
   "source": [
    "transform_dtype('Tariff','(01) AUTO', 1)"
   ]
  },
  {
   "cell_type": "code",
   "execution_count": 102,
   "metadata": {
    "collapsed": false
   },
   "outputs": [
    {
     "data": {
      "text/plain": [
       "str"
      ]
     },
     "execution_count": 102,
     "metadata": {},
     "output_type": "execute_result"
    }
   ],
   "source": [
    "transform_dtype('Bonus_Malus',['07F','06New','06F','07New'], [7,60,6,70])"
   ]
  },
  {
   "cell_type": "code",
   "execution_count": 103,
   "metadata": {
    "collapsed": true
   },
   "outputs": [],
   "source": [
    "lloss['Bonus_Malus'] = lloss['Bonus_Malus'].astype(int)"
   ]
  },
  {
   "cell_type": "code",
   "execution_count": 104,
   "metadata": {
    "collapsed": false,
    "scrolled": true
   },
   "outputs": [
    {
     "data": {
      "text/plain": [
       "str"
      ]
     },
     "execution_count": 104,
     "metadata": {},
     "output_type": "execute_result"
    }
   ],
   "source": [
    "transform_dtype('Bonus_Malus_Range','06_07New','06_07')"
   ]
  },
  {
   "cell_type": "code",
   "execution_count": 105,
   "metadata": {
    "collapsed": true
   },
   "outputs": [],
   "source": [
    "lloss['Bonus_Malus_Range'] = lloss['Bonus_Malus_Range'].astype(int)"
   ]
  },
  {
   "cell_type": "code",
   "execution_count": 106,
   "metadata": {
    "collapsed": true
   },
   "outputs": [],
   "source": [
    "# fillna in ['Prev_Insurer_Category']\n",
    "lloss['Prev_Insurer_Category'] = lloss['Prev_Insurer_Category'].fillna(0)"
   ]
  },
  {
   "cell_type": "code",
   "execution_count": 107,
   "metadata": {
    "collapsed": false,
    "scrolled": true
   },
   "outputs": [
    {
     "data": {
      "text/plain": [
       "numpy.int64"
      ]
     },
     "execution_count": 107,
     "metadata": {},
     "output_type": "execute_result"
    }
   ],
   "source": [
    "transform_dtype('Prev_Insurer_Category',['(01) Direct','(99) New','(02) Non Direct'],[1,99,2])"
   ]
  },
  {
   "cell_type": "code",
   "execution_count": 108,
   "metadata": {
    "collapsed": true
   },
   "outputs": [],
   "source": [
    "# fillna in ['Original_Channel']\n",
    "lloss['Original_Channel'] = lloss['Original_Channel'].fillna(0)"
   ]
  },
  {
   "cell_type": "code",
   "execution_count": 109,
   "metadata": {
    "collapsed": false
   },
   "outputs": [
    {
     "data": {
      "text/plain": [
       "numpy.int64"
      ]
     },
     "execution_count": 109,
     "metadata": {},
     "output_type": "execute_result"
    }
   ],
   "source": [
    "transform_dtype('Original_Channel',['(01) Phone','(02) Internet','(03) Broker','(05) Re-quote',\n",
    "                    '(06) Axa Life','(07) Agent','(09) MGM','(04) Fax','(08) Banc','Database marketing'],\n",
    "                [1,2,3,5,6,7,9,4,8,10])"
   ]
  },
  {
   "cell_type": "markdown",
   "metadata": {},
   "source": [
    "# working on timestamp"
   ]
  },
  {
   "cell_type": "markdown",
   "metadata": {},
   "source": [
    "#breaking datatime columns : break into 'year', 'month', and 'date'\n",
    "- 'Event_Occurrence_Month'  \n",
    "\n",
    "- 'Inception_Month'           \n",
    "\n",
    "- 'Issued_Date'              \n",
    "\n",
    "- 'Issued_Time'               \n",
    "\n",
    "- 'Effective_Date' "
   ]
  },
  {
   "cell_type": "code",
   "execution_count": 110,
   "metadata": {
    "collapsed": false
   },
   "outputs": [],
   "source": [
    "def datetime(new_feature,feature,year,month,date):\n",
    "    lloss[new_feature] = pd.to_datetime(lloss[feature])\n",
    "    lloss[year] = lloss[new_feature].dt.year\n",
    "    lloss[month] = lloss[new_feature].dt.month\n",
    "    lloss[date] = lloss[new_feature].dt.date\n",
    "    return lloss[year].head()"
   ]
  },
  {
   "cell_type": "code",
   "execution_count": 111,
   "metadata": {
    "collapsed": false
   },
   "outputs": [
    {
     "data": {
      "text/plain": [
       "0    2010\n",
       "1    2010\n",
       "2    2010\n",
       "3    2010\n",
       "4    2010\n",
       "Name: Effective_year, dtype: int64"
      ]
     },
     "execution_count": 111,
     "metadata": {},
     "output_type": "execute_result"
    }
   ],
   "source": [
    "datetime('Event_Occurrence','Event_Occurrence_Month','Event_Occurrence_year','Event_Occurrence_month','Event_Occurrence_date')\n",
    "datetime('Inception','Inception_Month','Inception_year', 'Inception_month','Inception_date')\n",
    "datetime('Issued','Issued_Date','Issued_year','Issued_month','Issued_date')\n",
    "datetime('Effective','Effective_Date','Effective_year','Effective_month','Effective_date')"
   ]
  },
  {
   "cell_type": "code",
   "execution_count": 119,
   "metadata": {
    "collapsed": false
   },
   "outputs": [],
   "source": [
    "columns = list(lloss.columns)\n",
    "new_claimdata_1 = lloss[columns]\n",
    "new_claimdata_1.to_csv('new_claimdata_1.csv',index = False)"
   ]
  },
  {
   "cell_type": "markdown",
   "metadata": {},
   "source": [
    "#so far left tasks:\n",
    "\n",
    "- \"missing observations in ['Claim_Number'],['Contract_Status']\"\n",
    "\n",
    "- whether the way of processing missing values is meaningful and effective?\n",
    "\n",
    "- text data\n",
    "\n",
    "- 0 means 'This customer didn't pay annual premium for that category?\n",
    "\n",
    "- \"what does 'Anshin plus' mean for ['Annual_Premium_AXAP'] ?\n",
    "\n",
    "- why the contract was finalized after the insurance policy has been effective ?\n",
    "\n",
    "- continue to transform datatype : 'Insured_Age_Range'"
   ]
  },
  {
   "cell_type": "code",
   "execution_count": 123,
   "metadata": {
    "collapsed": false
   },
   "outputs": [],
   "source": [
    "# fetures_to_use will be final features used for prediction\n",
    "# features_to_use = [col for col in columns if col not in ('EV_LARGE','Issued_Date','Effective_Date',\n",
    "#                                                                  'Inception_Month','Event_Occurrence_Month')]\n"
   ]
  },
  {
   "cell_type": "code",
   "execution_count": null,
   "metadata": {
    "collapsed": true
   },
   "outputs": [],
   "source": []
  }
 ],
 "metadata": {
  "kernelspec": {
   "display_name": "Python 3",
   "language": "python",
   "name": "python3"
  },
  "language_info": {
   "codemirror_mode": {
    "name": "ipython",
    "version": 3
   },
   "file_extension": ".py",
   "mimetype": "text/x-python",
   "name": "python",
   "nbconvert_exporter": "python",
   "pygments_lexer": "ipython3",
   "version": "3.6.0"
  }
 },
 "nbformat": 4,
 "nbformat_minor": 2
}
